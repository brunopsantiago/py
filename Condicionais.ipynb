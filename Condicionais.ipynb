{
  "nbformat": 4,
  "nbformat_minor": 0,
  "metadata": {
    "colab": {
      "name": "Condicionais.ipynb",
      "provenance": [],
      "collapsed_sections": [],
      "include_colab_link": true
    },
    "kernelspec": {
      "name": "python3",
      "display_name": "Python 3"
    }
  },
  "cells": [
    {
      "cell_type": "markdown",
      "metadata": {
        "id": "view-in-github",
        "colab_type": "text"
      },
      "source": [
        "<a href=\"https://colab.research.google.com/github/brunopsantiago/py/blob/first/Condicionais.ipynb\" target=\"_parent\"><img src=\"https://colab.research.google.com/assets/colab-badge.svg\" alt=\"Open In Colab\"/></a>"
      ]
    },
    {
      "cell_type": "markdown",
      "metadata": {
        "id": "-fMcBg4_E7HX"
      },
      "source": [
        "\n",
        "![images.png](data:image/png;base64,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)</b> <br>Consultor: Peterson Almeida <br>\n",
        "\n",
        "\n",
        "\n",
        "<h1> Condicionais </h1>\n",
        "<h2> Relembrando um pouco de operações </h2>\n",
        "<b> Geral:</b><br>\n",
        "Toda condicional em um código depende do resultado de uma operação booleana.\n",
        "<br> <br>\n",
        "\n",
        "> <b> As principais condições utilizadas são:</b><br>\n",
        "<b>==:</b> Verifica se os valores são exatamente iguais.<br>\n",
        "<b>>:</b> Verifica se o valor a esquerda é maior do que o valor a esquerda.<br>\n",
        "<b><:</b> Verifica se o valor a esquerda é menor do que o valor a esquerda. <br>\n",
        "<b>>=:</b> Verifica se o alor a esquerda é maior ou igual comparado ao valor a esquerda. <br>\n",
        "<b><=:</b> Verifica se o valor a esquerda é menor ou igual comparado ao valor a esquerda. <br>\n",
        "<b>in:</b> Verifica se os a esquerda está contido no valor a direita. <br>\n",
        "<br>\n",
        "\n",
        "\n",
        "\n",
        "\n"
      ]
    },
    {
      "cell_type": "markdown",
      "metadata": {
        "id": "cQNu5xtgTiuM"
      },
      "source": [
        "## As condicionais em python são declaradas utilizando a sintaxe abaixo:<br> \n",
        "\n",
        "<b>if x == y:</b> *Compara se x e y são iguais*<br>\n",
        "<b>elif x > y:</b> *Caso x e y seja diferente compara se x é menor que y*<br>\n",
        "<b>else:</b> *Caso nenhuma condição acima seja verdade ele executa esse bloco.*\n",
        "\n"
      ]
    },
    {
      "cell_type": "code",
      "metadata": {
        "colab": {
          "base_uri": "https://localhost:8080/"
        },
        "id": "AX9K5V3dZiOy",
        "outputId": "137825e1-144f-4198-b823-5f82e729e83d"
      },
      "source": [
        "#é possível também fazer uma operação antes do x e fazer a verificação com o seu resultado.\n",
        "x=4\n",
        "if x%2==0:\n",
        "  print(\"x é par\")\n",
        "else:\n",
        "  print(\"x é ímpar\")"
      ],
      "execution_count": null,
      "outputs": [
        {
          "output_type": "stream",
          "text": [
            "x é par\n"
          ],
          "name": "stdout"
        }
      ]
    },
    {
      "cell_type": "code",
      "metadata": {
        "id": "ZRPUB188JWET",
        "colab": {
          "base_uri": "https://localhost:8080/"
        },
        "outputId": "e4909c1d-2a97-411a-8694-40c005b05557"
      },
      "source": [
        "#caso tenha mais de uma condição para validar é utilizado o elif como um else+if\n",
        "#print verdadeiro no else\n",
        "x = 5\n",
        "y = 10\n",
        "if x == y:\n",
        "  print(\"são iguais\")\n",
        "elif x > y:\n",
        "  print(\"x é maior que y\")\n",
        "else:\n",
        "  print(\"são diferentes e x não é maior que y\")"
      ],
      "execution_count": null,
      "outputs": [
        {
          "output_type": "stream",
          "text": [
            "são diferentes e x não é maior que y\n"
          ],
          "name": "stdout"
        }
      ]
    },
    {
      "cell_type": "code",
      "metadata": {
        "colab": {
          "base_uri": "https://localhost:8080/"
        },
        "id": "rZ1_nQ4kWgmS",
        "outputId": "3b880c26-dd8c-4441-ff3f-bcf0b4d7357d"
      },
      "source": [
        "#print verdadeiro no elif\n",
        "x = 5.5\n",
        "y = 5\n",
        "if x == y:\n",
        "  print(\"são iguais\")\n",
        "elif x > y:\n",
        "  print(\"x é maior que y\")\n",
        "else:\n",
        "  print(\"são diferentes e x não é maior que y\")"
      ],
      "execution_count": null,
      "outputs": [
        {
          "output_type": "stream",
          "text": [
            "x é maior que y\n"
          ],
          "name": "stdout"
        }
      ]
    },
    {
      "cell_type": "code",
      "metadata": {
        "colab": {
          "base_uri": "https://localhost:8080/"
        },
        "id": "U2c8cK4lY81Q",
        "outputId": "b623eca2-96fa-4e90-b564-2566ed7dd358"
      },
      "source": [
        "#print verdadeiro no if\n",
        "x = 5\n",
        "y = 5\n",
        "if x == y:\n",
        "  print(\"são iguais\")\n",
        "elif x > y:\n",
        "  print(\"x é maior que y\")\n",
        "else:\n",
        "  print(\"são diferentes e x não é maior que y\")"
      ],
      "execution_count": null,
      "outputs": [
        {
          "output_type": "stream",
          "text": [
            "são iguais\n"
          ],
          "name": "stdout"
        }
      ]
    },
    {
      "cell_type": "markdown",
      "metadata": {
        "id": "cnlbkP5KWhI8"
      },
      "source": [
        "<h1> Dois novos tipos de váriaveis</h1>\n",
        "\n",
        "Nessa etapa vamos aprender mais dois tipos de váriaveis, até essa etapa já vimos string, inteiros, booleanas e números reais, mas e se quisermos armazenar diversos valores? Temos que declarar diversas variáveis? Para esses casos podemos a Lista e a Tupla, ambas são para armazenar diversos valores em uma única variável.\n",
        "\n",
        "*   <b>Lista:</b> varíavel mutável que armazena diversos valores heterogêneos ou homogêneos\n",
        "*   <b>Tupla:</b> varíavel imutável que armazena diversos valores heterogêneos ou homogêneos.\n",
        "\n",
        "A grande diferença entre as duas é que a lista permite alterar valores dentro dela enquanto a tupla não permite alterações.\n",
        "\n",
        "<h2> Exemplos:</h2>\n"
      ]
    },
    {
      "cell_type": "markdown",
      "metadata": {
        "id": "u4EXtGPaKWeQ"
      },
      "source": [
        "É possível também fazer operações entre strings."
      ]
    },
    {
      "cell_type": "code",
      "metadata": {
        "colab": {
          "base_uri": "https://localhost:8080/"
        },
        "id": "zJZpxNevU8zY",
        "outputId": "4d8bbda9-e412-46f3-c2a1-0684ac7aa4ea"
      },
      "source": [
        "#criação de lista e tupla com valores de diferentes tipos\n",
        "lista = ['oi',5,'tchau']\n",
        "tupla = ('oi',5,'tchau')\n",
        "#por mais que contenham os mesmos valores, são tipos diferentes e isso torna elas diferentes\n",
        "lista==tupla"
      ],
      "execution_count": null,
      "outputs": [
        {
          "output_type": "execute_result",
          "data": {
            "text/plain": [
              "False"
            ]
          },
          "metadata": {
            "tags": []
          },
          "execution_count": 12
        }
      ]
    },
    {
      "cell_type": "code",
      "metadata": {
        "colab": {
          "base_uri": "https://localhost:8080/"
        },
        "id": "BJ4pj88NJyNU",
        "outputId": "13127b12-9d30-4caa-8d22-4a14f807b6bb"
      },
      "source": [
        "#print do primeiro valor da lista e da tupla\n",
        "print(lista[0])\n",
        "print(tupla[0])\n",
        "#quanto comparamos o valor podemos ver que é igual\n",
        "lista[0]==tupla[0]"
      ],
      "execution_count": null,
      "outputs": [
        {
          "output_type": "stream",
          "text": [
            "oi\n",
            "oi\n"
          ],
          "name": "stdout"
        },
        {
          "output_type": "execute_result",
          "data": {
            "text/plain": [
              "True"
            ]
          },
          "metadata": {
            "tags": []
          },
          "execution_count": 13
        }
      ]
    },
    {
      "cell_type": "markdown",
      "metadata": {
        "id": "cqbLr3n9YVH4"
      },
      "source": [
        "Podemos adicionar, remover ou alterar valores da lista, enquanto a tupla não permite essas ações por ser imutável."
      ]
    },
    {
      "cell_type": "code",
      "metadata": {
        "colab": {
          "base_uri": "https://localhost:8080/"
        },
        "id": "jN_iSoICKyZe",
        "outputId": "a9a872bb-ce78-4992-fec0-25f266ba8322"
      },
      "source": [
        "#adição de um elemento na lista\n",
        "lista.append('ultimo')\n",
        "#print da lista\n",
        "print(lista)\n",
        "#atribuindo um novo valor ao último elemento da lista\n",
        "lista[-1]='alterado'\n",
        "#print da lista\n",
        "print(lista)\n",
        "#remoção (pop) do último elemento da lista\n",
        "lista.pop(-1)\n",
        "print(lista)"
      ],
      "execution_count": null,
      "outputs": [
        {
          "output_type": "stream",
          "text": [
            "['oi', 5, 'tchau', 'ultimo']\n",
            "['oi', 5, 'tchau', 'alterado']\n",
            "['oi', 5, 'tchau']\n"
          ],
          "name": "stdout"
        }
      ]
    },
    {
      "cell_type": "markdown",
      "metadata": {
        "id": "Kk7ucivNZgvL"
      },
      "source": [
        "É possível converter a tupla em lista para adicionar valores."
      ]
    },
    {
      "cell_type": "code",
      "metadata": {
        "colab": {
          "base_uri": "https://localhost:8080/"
        },
        "id": "JiVU-YlTZEVZ",
        "outputId": "d082b36e-ddfb-45ff-9dea-977fab7e199e"
      },
      "source": [
        "#convertendo tupla em lista\n",
        "tupla = list(tupla)\n",
        "#adicionando um valor ao final da tupla\n",
        "tupla.append('adicionado')\n",
        "#printando a tupla e seu type\n",
        "print(tupla,type(tupla))"
      ],
      "execution_count": null,
      "outputs": [
        {
          "output_type": "stream",
          "text": [
            "['oi', 5, 'tchau', 'adicionado'] <class 'list'>\n"
          ],
          "name": "stdout"
        }
      ]
    },
    {
      "cell_type": "markdown",
      "metadata": {
        "id": "7DDhuoh9fj0N"
      },
      "source": [
        "Verificando valores dentro de uma lista\n",
        "\n"
      ]
    },
    {
      "cell_type": "code",
      "metadata": {
        "colab": {
          "base_uri": "https://localhost:8080/"
        },
        "id": "Dj1gxocufiva",
        "outputId": "4b5a27c6-b654-44c2-9242-41f18a337b1a"
      },
      "source": [
        "#verificando se \"oi\" está na lista\n",
        "if 'oi' in lista:\n",
        "  print('oi está na lista')"
      ],
      "execution_count": null,
      "outputs": [
        {
          "output_type": "stream",
          "text": [
            "oi está na lista\n"
          ],
          "name": "stdout"
        }
      ]
    },
    {
      "cell_type": "code",
      "metadata": {
        "colab": {
          "base_uri": "https://localhost:8080/"
        },
        "id": "3VSS55Khe45O",
        "outputId": "5bde0de0-3b17-4100-8c31-d992f0015528"
      },
      "source": [
        "#verificando se \"ei\" está na lista\n",
        "if 'ei' in lista:\n",
        "  print('ei está na lista')\n",
        "else:\n",
        "  print('ei não está na lista')"
      ],
      "execution_count": null,
      "outputs": [
        {
          "output_type": "stream",
          "text": [
            "ei não está na lista\n"
          ],
          "name": "stdout"
        }
      ]
    },
    {
      "cell_type": "markdown",
      "metadata": {
        "id": "k5aiIEq4a_U0"
      },
      "source": [
        "Podemos também utilizar as expressões and e or para colocar duas ou mais condições dentro da mesma linha do if"
      ]
    },
    {
      "cell_type": "code",
      "metadata": {
        "colab": {
          "base_uri": "https://localhost:8080/"
        },
        "id": "thC-3CPALWaw",
        "outputId": "7e4c0981-733e-45a0-faf9-6e9ca41f66e2"
      },
      "source": [
        "#verificando se x ESTÁ NA lista E x maior > que 3 E x < menor que 10\n",
        "x=5\n",
        "if x in lista and x>3 and x<10:\n",
        "  print(\"x está na lista, é maior que 3 e menor do que 10\")\n"
      ],
      "execution_count": null,
      "outputs": [
        {
          "output_type": "stream",
          "text": [
            "x está na lista, é maior que 3 e menor do que 10\n"
          ],
          "name": "stdout"
        }
      ]
    },
    {
      "cell_type": "code",
      "metadata": {
        "colab": {
          "base_uri": "https://localhost:8080/"
        },
        "id": "vHHY8emhLiKS",
        "outputId": "7262d5f6-ee8f-4dfc-e398-7da05fe30adf"
      },
      "source": [
        "#verificando se x NÃO ESTÁ na lista OU x maior > que 3 E x < menor que 10\n",
        "x=5\n",
        "if x not in lista or x>3 and x<10:\n",
        "  print(\"ou x não está na lista ou é maior que 3 e menor do que 10\")"
      ],
      "execution_count": null,
      "outputs": [
        {
          "output_type": "stream",
          "text": [
            "ou x não está na lista ou é maior que 3 e menor do que 10\n"
          ],
          "name": "stdout"
        }
      ]
    },
    {
      "cell_type": "markdown",
      "metadata": {
        "id": "-179hvs-M3Ck"
      },
      "source": [
        "Nas aulas e exercícios adiantes aprenderemos cada vez mais novos conceitos na medida que nos aprofundamos no que já vimos. É recomendado que seja feito todos os exercícios e pontuado cada dúvida que surgir."
      ]
    },
    {
      "cell_type": "markdown",
      "metadata": {
        "id": "OJ8l2R0zOjFb"
      },
      "source": [
        "<h2> Dicas </h2>"
      ]
    },
    {
      "cell_type": "markdown",
      "metadata": {
        "id": "fNkVMA5se0K5"
      },
      "source": [
        "\n",
        "\n",
        "> O python nos dá uma série de opções para resolver o mesmo problema, cabe a nós decidir qual é o mais adequado para cada situação. Tuplas e listas são ótimos exemplos disso, ambos podem resolver o problema de armazenar diversos valores em uma única variável, entretanto um é mutável e a outra não, cabe analisarmos a situação e ver qual melhor atende a necessidade. <br> <br>Caso você queira saber mais sobre quando usar qual tipo e quais as suas particularidades, esse [link](https://pt.stackoverflow.com/questions/192727/quando-usar-listas-e-quando-usar-tuplas#:~:text=As%20tuplas%20s%C3%A3o%20sequ%C3%AAncias%20imut%C3%A1veis,armazenamento%20em%20set%20ou%20dict%20).) no StackOverflow (se você ainda não conhece essa plataforma, é uma ótima oportunidade de conhecer, no decorrer do curso e da sua nova carreira, ela será sua grande companheira) vai te ajudar bastante.\n",
        "\n"
      ]
    },
    {
      "cell_type": "code",
      "metadata": {
        "colab": {
          "base_uri": "https://localhost:8080/"
        },
        "id": "HIM-ButKfX07",
        "outputId": "c089ff1d-70d8-4b05-d1f1-b74b6a6adc4f"
      },
      "source": [
        "x = 1\n",
        "y = 1\n",
        "x+=10\n",
        "y+=10\n",
        "print('x:',x,'y:',y)\n",
        "print(\"x += 10 é equivalente a: x = x + 10\")\n"
      ],
      "execution_count": null,
      "outputs": [
        {
          "output_type": "stream",
          "text": [
            "x: 11 y: 11\n",
            "x += 10 é equivalente a: x = x + 10\n"
          ],
          "name": "stdout"
        }
      ]
    },
    {
      "cell_type": "markdown",
      "metadata": {
        "id": "6JNsXVpdPICs"
      },
      "source": [
        "<h1>Exercícios:<h1>"
      ]
    },
    {
      "cell_type": "markdown",
      "metadata": {
        "id": "RIh9DRYRPRYH"
      },
      "source": [
        "1. Construa uma condição para verificar se o número é múltiplo de 3."
      ]
    },
    {
      "cell_type": "code",
      "metadata": {
        "id": "cN42M5YJPP4r"
      },
      "source": [
        ""
      ],
      "execution_count": null,
      "outputs": []
    },
    {
      "cell_type": "markdown",
      "metadata": {
        "id": "zWoHFDoqPQeZ"
      },
      "source": [
        "2. Crie 3 condicionais utilizando a estrutura elif."
      ]
    },
    {
      "cell_type": "code",
      "metadata": {
        "id": "G5OwUn5JPG39"
      },
      "source": [
        ""
      ],
      "execution_count": null,
      "outputs": []
    },
    {
      "cell_type": "markdown",
      "metadata": {
        "id": "CAAVU4DMPrPx"
      },
      "source": [
        "\n",
        "3. Crie uma lista e verifique se ela contém os números 7 e 3.\n"
      ]
    },
    {
      "cell_type": "code",
      "metadata": {
        "id": "Np08VJ4QO0t6"
      },
      "source": [
        ""
      ],
      "execution_count": null,
      "outputs": []
    },
    {
      "cell_type": "markdown",
      "metadata": {
        "id": "hXAQEaOFjCfS"
      },
      "source": [
        "<h1>Desafio:<h1>"
      ]
    },
    {
      "cell_type": "markdown",
      "metadata": {
        "id": "sDpQ-yrgjFIO"
      },
      "source": [
        "Crie uma lista com 5 valores e uma tupla com 10 valores, verifique se algum valor da lista está contido na tupla."
      ]
    },
    {
      "cell_type": "code",
      "metadata": {
        "id": "2m3KiazwjELV"
      },
      "source": [
        ""
      ],
      "execution_count": null,
      "outputs": []
    }
  ]
}