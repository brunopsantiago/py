{
  "nbformat": 4,
  "nbformat_minor": 0,
  "metadata": {
    "colab": {
      "name": "Operações.ipynb",
      "provenance": [],
      "include_colab_link": true
    },
    "kernelspec": {
      "name": "python3",
      "display_name": "Python 3"
    }
  },
  "cells": [
    {
      "cell_type": "markdown",
      "metadata": {
        "id": "view-in-github",
        "colab_type": "text"
      },
      "source": [
        "<a href=\"https://colab.research.google.com/github/brunopsantiago/py/blob/first/Opera%C3%A7%C3%B5es.ipynb\" target=\"_parent\"><img src=\"https://colab.research.google.com/assets/colab-badge.svg\" alt=\"Open In Colab\"/></a>"
      ]
    },
    {
      "cell_type": "markdown",
      "metadata": {
        "id": "-fMcBg4_E7HX"
      },
      "source": [
        "\n",
        "![images.png](data:image/png;base64,iVBORw0KGgoAAAANSUhEUgAAAfcAAABkCAMAAACsLolMAAAArlBMVEX///8iQJrkUob/u1lr+87iQHz88PT/tkny//pe+8v/+PEaO5gePZkNNZYTOZnS1+jz9fpWaq+rtNVPY6rp7PUALpTk5/Gapc0AJ5IAK5M8VKNbba8AMZX4+fyBj8F1hb2SnsnK0OXBx9765Orc4O6Z/NvtlbG1vdn/zo9HXactSqDm6vRufrh8ir6MmcZjdbM0T6KirNA/V6UAIJCxutkAIpAAGY/hLXP/sTP/zpAYTYZvAAARSklEQVR4nO2dCZfiOnbHcTKTmUSLDdhQFDbYxBmCiz28SfL9v1i0WbuNuxumoKP/Oe+camNL1/pJV9uV32gUFBQUFBQUFBQUFBQUFBQUFBQUFBQUFPTSKrZCt1heKj8XH80x/U6zfkDJ8fzxcS6T77bjvVRliCubiiuzTwSjCKKo+lbDhipuuLnn+P69QVIViLjAmF8olphfgPAdmlCyEy8APovvtuWdVGGL+yYTF6J8/r2mDdIkb81Ft++25Z3kcD+0FyJweoMWtATS3P132/JOcrifZEHC3Rtwv0LJfXr/7qBWDve9akDjN+A+VuaevtuWd5LD/SI7TLz6XtMG6Yhk//4Ow5GXkcM9bVrP+V/195o2SDUU5sJ89t22vJMc7mRAz1wnzN6j/Uy4uSCffLclbyWX+6ia4ixHu3eZFm12KM/RdPPddryXPNxHRb3Zxu+waMOVxNt3Mvc15OMe9PsrcP9/ouSrruuZdIs/yb1Ihsztk5TkVX8NXwZIZuT+h24EstetZ31pFunMKJLfT0Vc7qdnArnZ7eczhsPlfjmshMSFWlw4bEUqVblfjsfLddnXqxazy378GUEQnceHLb8xaSVqQlK2WdEpY7FdTxsyLftcHmszpe38uDrOb7Uvu3mbRNn1usSEZnc6xt7ql25Xy2sTYVokl9Rr5bsrKT8zhCGd8EIAUL6kQ2CHe7JDmOvvopgnC/7v7MBTOS8QACQFgLLPzm3vyThDgOVFMsNZcyGFWDf0ChESc65ZLvJakCp1O2dY3I/ytWygaXld5AhhhPJFs9/a+XydRRIIW5jS8qyZANDienFAVnucY9DekuM1XQMYY24l3v8O4JPjAsm1bE56ca083KftXR8td9QuhJJyKHM9FYjyiy+zG8hBpAvmzWYUR9BcWpu1N6FLcVro1iHM52XFKtPygyCLLPLpp/zZoJQeMut1iQ2ROTetpgvTygh/lKNRmyJY/gbcq08UOQLg4uy/d3OHu6Ke5nYaaOk0+dnSLnKaPr7EErPNHazH2LwdQgp+trOthuhk5NfB/RZZ6YmH9+rh4oiBe0t+KprfiPvW946sFCWX+9zPt7MnFXy1wMeNr8wj4jfbPx3uUeRUFNh8jWZXT0pop+fn5V6UuVvx+MPjdjU32TtVmL/OvhF//Qbct13lEGm7b/zWbu6kTLyp4KlRPnXkrWJ6Xh7unmTXyc5bgZDOw8t9lfme4w9f+cihOPmx6yXy9twrPzDzdQdw71B+0PL6avpgisIfwj3CSy/2KMqOKjsf92MXUmqrGFKe7r3UEO7pZju5bXsC++LbxPw5rba3yW3z07GARXUnR13J530Uv8I9QtriuA0LeqrcMO6u75fX1Yt7uG96sGcC+8W+x2PmHe7FdhphRKYa4FwSH5KCpol4A0h3TdOciOdb4jxHoCm/hK0T+gRi1w46u2JMHojMjaWKpNdgjoT+TKNK0iPNkT6+GrJXejTAkVkSxrkz8hrOnSZA8tavqFAX82YyrCcvhOzMOrhDMl1zDeNUDC5YhVS53JNGvxWSFJW1bchgajhAki8tY2sKcod7PJb3Q3TejNKMzE/XwiYyzR2P6jNvAvCDz3kunyoHiOD+S3GfkrmktaFYLcg7fwgkJL0ryfLadtcQReXdTijRezuMp/OqqjbHT2ukN5Q7wNMJSWByAlrDVg1eb6QYnLZxXddVeTZp+rmj66WKq5U7KiQ5Xa+Rbi9Q03uH+1xryhA16y2x9jLGNNW87SBW2isBtJtXxMp4MjWLpJf7Der3wuyW5HRIwm26QvLw6CrugBEdSybmRJXc3MhCK2iZ29wptYVEAnfmwAmiu9FQc/WS8OMgHURlzskGcs+WrYP62qv6JGOcJnpeK1Wjb0AvJh93uZhT2APtxZ5F8ldjlTaSZeRwT7XmjtWEfbbKoBwXfOlVdqfOCZA2rJdID/dbxnMBGAP2V14Cgztc0voHyc884DMV82gon4hg3lrHuKM73Au+vCQfR9N+8IUqGT4plir1ljWMuz6kGh3V8wthw1R5MmDklU71svbN41Txr3W7INq611UsncNdBVZH+mydQI2k7VpLyPUXshxBN/eaY0doeVjtufum/2ncI9K/wfx6OCzxH6QgiqsIZmlO5Ikdd/iyiIZwv9K3B2hKHj9zd48Ooz7Fmpu3ghMuWgEP4o7NWOW9fD7jKc8Wipe1sDZTka8+7khb95NnIViWqjiUaRForzncVWA1Nld4RqnEqIIxkR1DqNW5bu4FywTCFdvjSDZLUUI6d7oCcUvo7sK6aOsTvt6YEUm9Z40WRNzCAX6eJYhPNXv89smsxL2xJqpyo9L+7aCQDuEOz2ZJ1rI3F0lrpxjMdtS+SBd3aCz+aG3WiJLdyusfbQdvc5+d23/DqGvvoJZdgXvIRqtz3dy3GcMuPVQhZo4md6Q8WM3aA1ori7as6EQpDWjvLHnZNhLmV/u3UGVgNDw775GqYfIQ7k4Mm2wd4tCCPHQBG7fQVYS2y90Mhk3V6DDT5zuq787aqm5zr1TN6wy40+5x9nk40zvcWXPPdctEe9a56zV/xUaVhm+p2BM5q7/DuC+03YWCVU/cc4QxGcs26QmULCXTAdzh+ct6XDZAyAYZhXSybnNv39TPfWEsRRTy8AY0FmXVdTkksrlfpLFRZ5FIDwgbT3nJ/qiTO9tnQOaG1Nju3yMtvjeh9RjszFQmmSyJQX7e7JKYq8U9PbwqmMyzzKOq/gDu7smEr7Y/5z1AKsss89VEScjD3bxz1foN683kdVnqNnfbA/kkvZLg1JF3J3dab6C1K8H2NXXuep1iZw5zuzemzoufRRvU3nMzQ/oSPXV7NJO+8cP3sxyIDeDuHqQoZHtnfv2rsZ81JIdTLndg3indkDUkkStQ0nfZ3JeOR3Cl7nHdvDa46ORO38MuC4ZO567XO2q2y4i6Ju5Ch3C3htTi9+44orotlgj7fv6RfRm3oyjUFJHePJN55b68ZDtzuNuFUnZk6V63uUvr8+6+T9U/3z1y/NnJndZux6FRN6Fz1/uBE/D5lpiZySKNBvh5ZLkL1nc4PkSpVuPbrnd4HHc1VfPl5bTWJ3BvF8ki3L15sWsf8Y6L6nvcWe3G9umciblepyNhRer6luLcXh4yf2+sFfmC1l7kjXrhr9HfBn9kXDegvcsxpC+v1T+gvUum3rbM9YvtnQ7rYGN7WPqY0d4Vd/5vNy/pFoZw/7R7zjXoPRM46+1zkx/p3+9y1/p3X5EtO/v3x3GXTHtcYH//frvXv9MhHPy0uccWd82XsDUF4HJntOmLDFuft0RbkW/aJJTKFuAric2PjOfvcr8znlfe4Hnc5SIB7i4SNZ73nfiVeXRx33i506WZLu60OUC332GeuhwNau/2LFAMKHqOLMs5L/DMWrQl7wdw1+bvpZtX3D1/fxx3NTc/d5bIpW/+Xsh20tveHT//E+191+fnN7/Y3vUT4s5mff1D67R3uWvrdU53pHXvz+SuHFj3Ypa2Xue6QG1Fo6t/pzk647pt3snd7u9bUdPZdNPLPTe5OyvK+/7+XftQkfPBGrX+9SDu2pKuM9LU6tgTudfOBMVV3z2F9sGcDu5sFdlZBKOmdXBPPFhHYtWZdYicu1liE4t7Y62V8jFBz6HlBKh1Mqs70LZlHsNd7cfpsVD8VlWgz+Su7QQ7B/ilu+u5R9ui7Zy/n6GnLPagkzvrat31QxbCjuT83eLOXlWbv9vjg4R6T+8wqpX6QlWU61uT6VLD/hjuahoVQWgtuWuZPZO7Bs4IFhgV+4+NnYwDXg/WMbgnsToURgdF0PqKEhu7dXFnXa0ztS3Zeh0dJ/C5uGkJ2+PW120sB8q2RrxLsK1itSke4eYiOqZ6bga+Pob7RZUoxBdVyWJ9S/2p3GdaJB6eysJPtlcMoXCLMy3uAO9VT/21MlqC4p6u6cG9tbiTdb1mWAm3rIt7RQk439cDsN3yYL7Q3IpI2X6y3t6tMSjzIf1nWTUPSyPOTquyPCwb+9TUQ7gneqhMvitrer4w3e6NMKuncjdDZvDyuKln8W21Y18zxWLCrkf04OawSamZ8epsRhJK7u2nWz95T8G27MBV7wX4EbAu7gmFaAcvMMckWjHtJMyRG29Axr6MUW/oZPLepxprIxgVAowQBib1R3E3Y3cBWkTX3RnZkapP5Z6aYYMoXyyyXERMwoyDrzUXSGpDhj93V7iwThko7vs2nkY495JmgbVRsoj26OIuHL1xznKj7b/z3zNtFUlEtOjcYaRNx2aNd9HQ0qX7/Ih6y8dwT64mYysC2kzoKdzd2HhdIoDecOjcTLdEWu4qrCgXDZ5hRtc2PG4iakwn9/SDGT1WY/I5c7ft/JutEcJGjogq4YyNuAvYyCRr5j/z0uZh63gf/IO4k9mtW4K2nstdNs+evAv/ESyzRFrusROfs2H+AuLrcbu5HZrWUXRyF6NNAMuahdxt+HlP2LQx/6xegKikAXtptafY6XcKrPg6sKaPkw6JZQh27hqJzefQ0QYUo0dxV+vb3Zk9mXvSdwgK8flU3XmGyJ2/q8hAGZcl/AXpRfIcw/bdxNDMw12cy4Io2i2XUxEQq0Xo8QhVMviaLpfsZANa0T7fbO/0gCJ5fAd5Wn1RVlIr/zkUtG3jEB/GnfhZb4uHqIyshJ7EnYDvrHv5oW3EZ3+LR0fn/Hsss1AxdVYO+WGvgjF83JM2+h8CIDyiHGXSkhDVDdKfqRXLxOIOLuwH8Tv5YzHsQ3ObxsWBolid8n8Y99Em8rQ3gCq5Jfxs7qRjs79oIIzIVGGlU0/9hIujXIOQ3It2kw9oc6lyoUVcfxz5tijvrn3cR8X6w8gO5o2+wLHBxkxomrCJmj5/r2L9OA8Cvr1En4p5k+ujeIjZ10TatSvFvU19EHeRIATGofRDbo2NYTau1Zaw5N7eBaGZ7k9wh+b3LuJT7kxZcH4yVtUv9lyWONCtmvaq8XzMD0UBY2+lpt9IwYB9MaYylstT4qmBG++z2clSgSBvrANu9WnRtmTE/MYJAfCHQMLX9+upPKWjfQjmvpLb6UyncFQInfesvp1y/n2YXARNEockvm/TnoG5LdoLzpp7EbVfl7GC1eO9VskgRrsJHbC036LJREJfUKSMrEWJeUeW88y+nl6lBZZp1SnS0EOA4MneGknLay5ntITF+UBLcy1LRJKJxzDL8NhC+bVd7U+n9ZwdZqDcxRZ6ul8ul2N337XYrHcRyrIcnk8Th1tR7a8wJz9e+VnZI0mEzxtlnFVy2UXkjmh3+NFPB8+qy+E0ni7380rMKepYqJ1jzNoLreGFvOCOH+XTjiGz7amhx8eI/zqvN/xJJ6Gux5OOLD3Xuy0Y1TduAqkZsBnPfWWVbFbXiNU+csdtZhaA7hzizcb/QaxW1Ev0xHq0+dVxVVWxHY8ulLIfnVLW4uuKmtzh/a7XK+mLlNam+tbvRFMTtpuq7mGW1NWm/w5L6WTrkGP9jWeP/RHyxlUG/cMVLxDKr2Y9oWv28PycKh64v4bo+p293UgnAc/61Gvg/hri5yKW+iW27uILLnuEAvcXEdvOQ2rEzj/JwL9r8QQF7i8i/kkBMu9bX26T+T7i+42LZ/0fLwL3V5HY54L861J8ASD3HbJ8iAL3V1Hh7PxA9LyvGAfur6PS+OwxyHtOqv2yAvcXUnpsFmzRm/j6xfXyzCW05POPj4+/D92HCXqyinhyPKzXh+Nt9uQP2f7U/wXhr68sYt+/vLZGo397aXVy/49/fV39aTT69//+8yvrb6PR//zlhfWf3dz/9MIi3P/8T68swv0v//zCCtyfo8D9KQrcf1GB+3MUuD9FgfsvKnB/jgL3pyhw/0UF7s/Rq3P/307uQUFBQUFBQUFBQUFBQUFBQUFBQUFBQUFBQU/S/wGPhR9JaAIbSwAAAABJRU5ErkJggg==)</b> <br>Consultor: Peterson Almeida <br>\n",
        "\n",
        "\n",
        "\n",
        "<h1> Operações </h1>\n",
        "<h2> Relembrando um pouco de variáveis </h2>\n",
        "<b> Geral:</b><br>\n",
        "Variáveis são utilizadas para armazenar valores dentro do código, existem diferentes tipos de variáveis, cada uma adequada para alguma situação.\n",
        "<br> <br>\n",
        "\n",
        "> <b> Alguns dos tipos primários de variáveis</b><br>\n",
        "<b>int:</b> utilizadas para armazenar números inteiros.<br>\n",
        "<b>float:</b> utilizada para pontos flutuantes, ou seja, números reais.<br>\n",
        "<b>string:</b> utilizadas para armazenar textos. <br>\n",
        "<b>boleeano:</b> utilizadas para armazenar condição binária de True (verdadeiro) ou False (falso). <br>\n",
        "<br>\n",
        "\n",
        "\n",
        "\n",
        "\n",
        "Em python não precisamos declarar o tipo de variável, ele reconhece de forma automática.<br>\n",
        "\n"
      ]
    },
    {
      "cell_type": "markdown",
      "metadata": {
        "id": "cQNu5xtgTiuM"
      },
      "source": [
        "<h1> Operações</h1>\n",
        "\n",
        "Principais operações em python são:\n",
        "\n",
        "*   <b>Soma:</b> para operações de soma é utilizado o sinal de +\n",
        "*   <b>Subtração:</b> para operações de subtração é utilizado o sinal de -\n",
        "*   <b>Multiplicação:</b> para operações de Multiplicação é utilizado o sinal de *\n",
        "*   <b>Divisão:</b> para operações de divisão é utilizado o sinal de /\n",
        "\n",
        "<h2> Exemplos:</h2>\n",
        "\n",
        "\n"
      ]
    },
    {
      "cell_type": "code",
      "metadata": {
        "id": "ZRPUB188JWET",
        "colab": {
          "base_uri": "https://localhost:8080/"
        },
        "outputId": "bab3cd12-31eb-458a-a890-14418c800a1d"
      },
      "source": [
        "#soma de inteiros no print\n",
        "inteiro_1 = 5\n",
        "inteiro_2 = 7\n",
        "#print dos inteiros + strings descrevendo operação\n",
        "print('somando:',inteiro_1, '+', inteiro_2,'=',inteiro_1 + inteiro_2)\n",
        "\n"
      ],
      "execution_count": null,
      "outputs": [
        {
          "output_type": "stream",
          "text": [
            "somando: 5 + 7 = 12\n",
            "multiplicando: 3.45 + 5.5 = 8.95\n"
          ],
          "name": "stdout"
        }
      ]
    },
    {
      "cell_type": "code",
      "metadata": {
        "id": "Nk2TDUuOpg_S"
      },
      "source": [
        "#soma de floats no print\n",
        "real_1 = 3.45\n",
        "real_2 = 5.50\n",
        "print('multiplicando:',real_1, '+', real_2,'=',real_1 + real_2)\n"
      ],
      "execution_count": null,
      "outputs": []
    },
    {
      "cell_type": "markdown",
      "metadata": {
        "id": "u4EXtGPaKWeQ"
      },
      "source": [
        "É possível também fazer operações entre strings."
      ]
    },
    {
      "cell_type": "code",
      "metadata": {
        "colab": {
          "base_uri": "https://localhost:8080/"
        },
        "id": "zJZpxNevU8zY",
        "outputId": "e69ab1af-ba99-461c-bcda-7cec3e243091"
      },
      "source": [
        "#soma de strings no print\n",
        "texto = 'oi'\n",
        "texto_2 = \"tchau\"\n",
        "print('Somando:',texto, '+', texto_2,'=',texto + texto_2)\n"
      ],
      "execution_count": null,
      "outputs": [
        {
          "output_type": "stream",
          "text": [
            "Somando: oi + tchau = oitchau\n"
          ],
          "name": "stdout"
        }
      ]
    },
    {
      "cell_type": "code",
      "metadata": {
        "colab": {
          "base_uri": "https://localhost:8080/"
        },
        "id": "BJ4pj88NJyNU",
        "outputId": "5d89e009-9188-4cfe-e206-7f8a8383c0e7"
      },
      "source": [
        "# E também multiplicar uma string por um inteiro no print\n",
        "print('Multiplicando:',texto*3 )\n"
      ],
      "execution_count": null,
      "outputs": [
        {
          "output_type": "stream",
          "text": [
            "Multiplicando: oioioi\n"
          ],
          "name": "stdout"
        }
      ]
    },
    {
      "cell_type": "markdown",
      "metadata": {
        "id": "cqbLr3n9YVH4"
      },
      "source": [
        "Podemos também atribuir os valores das operações em uma nova variável ou atribuir como o novo valor da variável já existente."
      ]
    },
    {
      "cell_type": "code",
      "metadata": {
        "colab": {
          "base_uri": "https://localhost:8080/"
        },
        "id": "jN_iSoICKyZe",
        "outputId": "2739fec0-0e64-4ba1-f5bb-89ca364d9eec"
      },
      "source": [
        "#somando dois inteiros e atribuindo a uma nova variável\n",
        "inteiro_3 = inteiro_1 + inteiro_2\n",
        "#printando a váriavel e seu type\n",
        "print(inteiro_3, type(inteiro_3))"
      ],
      "execution_count": null,
      "outputs": [
        {
          "output_type": "stream",
          "text": [
            "12 <class 'int'>\n"
          ],
          "name": "stdout"
        }
      ]
    },
    {
      "cell_type": "markdown",
      "metadata": {
        "id": "Kk7ucivNZgvL"
      },
      "source": [
        "Ao realizar operações o tipo da nossa variável pode mudar."
      ]
    },
    {
      "cell_type": "code",
      "metadata": {
        "colab": {
          "base_uri": "https://localhost:8080/"
        },
        "id": "JiVU-YlTZEVZ",
        "outputId": "a0aeff48-ac66-4638-84fd-44caac071a1a"
      },
      "source": [
        "#somando um inteiros e um número real e atribuindo a uma nova variável\n",
        "inteiro_3 = inteiro_1 + real_1\n",
        "#printando a váriavel e seu type\n",
        "print(inteiro_3, type(inteiro_3))"
      ],
      "execution_count": null,
      "outputs": [
        {
          "output_type": "stream",
          "text": [
            "8.45 <class 'float'>\n"
          ],
          "name": "stdout"
        }
      ]
    },
    {
      "cell_type": "markdown",
      "metadata": {
        "id": "7DDhuoh9fj0N"
      },
      "source": [
        "Existem também operadores que os resultados são booleanos, esses operadores são voltados para comparação\n",
        "\n",
        "*   Maior > Menor \n",
        "*   Igual: ==\n",
        "*   Diferente: !=\n",
        "\n",
        "\n"
      ]
    },
    {
      "cell_type": "code",
      "metadata": {
        "colab": {
          "base_uri": "https://localhost:8080/"
        },
        "id": "Dj1gxocufiva",
        "outputId": "e0a82336-d318-4f8b-acf4-10da3883939f"
      },
      "source": [
        "#printando comparações entre 2 valores com cada um dos operadores\n",
        "print(5>3)\n",
        "print(5<3)\n",
        "print(7==7)\n",
        "print(7==7.5)\n",
        "print(7!=7)\n"
      ],
      "execution_count": null,
      "outputs": [
        {
          "output_type": "stream",
          "text": [
            "True\n",
            "False\n",
            "True\n",
            "False\n",
            "False\n"
          ],
          "name": "stdout"
        }
      ]
    },
    {
      "cell_type": "markdown",
      "metadata": {
        "id": "k5aiIEq4a_U0"
      },
      "source": [
        "Por trás do operador booleano existe o 0 para False e o 1 para True, logo se realizarmos uma soma o resultado será o seguinte"
      ]
    },
    {
      "cell_type": "code",
      "metadata": {
        "colab": {
          "base_uri": "https://localhost:8080/"
        },
        "id": "thC-3CPALWaw",
        "outputId": "35bdc3fd-c498-49e7-ca37-c7768a370bd8"
      },
      "source": [
        "#somando valores booleanos True\n",
        "True + True"
      ],
      "execution_count": null,
      "outputs": [
        {
          "output_type": "execute_result",
          "data": {
            "text/plain": [
              "2"
            ]
          },
          "metadata": {
            "tags": []
          },
          "execution_count": 22
        }
      ]
    },
    {
      "cell_type": "code",
      "metadata": {
        "colab": {
          "base_uri": "https://localhost:8080/"
        },
        "id": "vHHY8emhLiKS",
        "outputId": "8a68df80-5ea9-4622-ee4c-5259819e59b2"
      },
      "source": [
        "#somando true com false\n",
        "True+False"
      ],
      "execution_count": null,
      "outputs": [
        {
          "output_type": "execute_result",
          "data": {
            "text/plain": [
              "1"
            ]
          },
          "metadata": {
            "tags": []
          },
          "execution_count": 23
        }
      ]
    },
    {
      "cell_type": "code",
      "metadata": {
        "colab": {
          "base_uri": "https://localhost:8080/"
        },
        "id": "UgUtjOKybRUW",
        "outputId": "d31118c1-119c-480a-9e34-5e44159c8994"
      },
      "source": [
        "#multiplicando true\n",
        "True*3"
      ],
      "execution_count": null,
      "outputs": [
        {
          "output_type": "execute_result",
          "data": {
            "text/plain": [
              "3"
            ]
          },
          "metadata": {
            "tags": []
          },
          "execution_count": 24
        }
      ]
    },
    {
      "cell_type": "code",
      "metadata": {
        "colab": {
          "base_uri": "https://localhost:8080/"
        },
        "id": "6cksZb-SbS2q",
        "outputId": "fe4191a3-cb62-4f28-f1f9-0285be52a05c"
      },
      "source": [
        "#dividindo true e atribuindo a uma nova variavel\n",
        "booleano = True/2\n",
        "#printando o valor da variável e seu type\n",
        "print(booleano,type(booleano))"
      ],
      "execution_count": null,
      "outputs": [
        {
          "output_type": "stream",
          "text": [
            "0.5 <class 'float'>\n"
          ],
          "name": "stdout"
        }
      ]
    },
    {
      "cell_type": "markdown",
      "metadata": {
        "id": "-179hvs-M3Ck"
      },
      "source": [
        "O Python também fornece funções built in (nativas) que permitem você transformar o valor de uma variável."
      ]
    },
    {
      "cell_type": "code",
      "metadata": {
        "colab": {
          "base_uri": "https://localhost:8080/"
        },
        "id": "mBQfN3ArL1IC",
        "outputId": "abbf0376-4dfb-4457-f298-2d79985da5d3"
      },
      "source": [
        "#o python possui a função \"type()\" já nativa e construída para mostar o tipo da variável\n",
        "print('Booleano:',booleano, ' Tipo:',type(booleano))\n",
        "#convertendo variável booleano para int\n",
        "booleano = int(booleano)\n",
        "#printando variável e seu type\n",
        "print('Booleano:',booleano, ' Tipo:',type(booleano))\n",
        "#convertendo o valor para string\n",
        "booleano = str(booleano)\n",
        "#printando variável e seu type\n",
        "print('Booleano:',booleano, ' Tipo:',type(booleano))\n",
        "\n"
      ],
      "execution_count": null,
      "outputs": [
        {
          "output_type": "stream",
          "text": [
            "Booleano: 0.5  Tipo: <class 'float'>\n",
            "Booleano: 0  Tipo: <class 'int'>\n",
            "Booleano: 0  Tipo: <class 'str'>\n"
          ],
          "name": "stdout"
        }
      ]
    },
    {
      "cell_type": "markdown",
      "metadata": {
        "id": "362KRo3ROAqM"
      },
      "source": [
        "<b><h2>Operações 2</h2>"
      ]
    },
    {
      "cell_type": "markdown",
      "metadata": {
        "id": "e-OEUVW0OPxO"
      },
      "source": [
        "Além das operações mais comuns, o Python nativamente oferece operações de:\n",
        "\n",
        "*   <b>Módulo: </b> %\n",
        "*   <b>Exponencial: </b> **\n",
        "*   <b>Divisão com arredondamento: </b> //\n",
        "\n",
        "<h2> Exemplos </h2>\n",
        "\n",
        "\n"
      ]
    },
    {
      "cell_type": "code",
      "metadata": {
        "colab": {
          "base_uri": "https://localhost:8080/"
        },
        "id": "wFalk3l5N4VR",
        "outputId": "190a0ee4-27da-4802-9159-bb29466b1166"
      },
      "source": [
        "#basicamente a sobra da divisão\n",
        "#Muito utilizado para verificar se um número é par, caso o resto da divisão por 2 for 0, ele é par\n",
        "print(9%2)\n",
        "print(4%2)"
      ],
      "execution_count": null,
      "outputs": [
        {
          "output_type": "stream",
          "text": [
            "1\n",
            "0\n"
          ],
          "name": "stdout"
        }
      ]
    },
    {
      "cell_type": "code",
      "metadata": {
        "colab": {
          "base_uri": "https://localhost:8080/"
        },
        "id": "JqZi1KN7d2NC",
        "outputId": "0e38f847-9553-4384-f120-a25d77cd626a"
      },
      "source": [
        "#Printando operação de 2 numeros com Exponencial\n",
        "print(2 ** 2)\n",
        "print('o mesmo que: ',2*2)\n",
        "print(1.3 **3)\n",
        "print('O mesmo que: ',1.3*1.3*1.3)"
      ],
      "execution_count": null,
      "outputs": [
        {
          "output_type": "stream",
          "text": [
            "4\n",
            "o mesmo que:  4\n",
            "2.197\n",
            "O mesmo que:  2.1970000000000005\n"
          ],
          "name": "stdout"
        }
      ]
    },
    {
      "cell_type": "code",
      "metadata": {
        "colab": {
          "base_uri": "https://localhost:8080/"
        },
        "id": "V1qR2ZSNeHf9",
        "outputId": "90af855e-ff3e-42c0-dab7-855604ed61fd"
      },
      "source": [
        "#Divisão com arredondamento\n",
        "print(5//2)\n",
        "print(5//3)\n",
        "print(5//4)"
      ],
      "execution_count": null,
      "outputs": [
        {
          "output_type": "stream",
          "text": [
            "2\n",
            "1\n",
            "1\n"
          ],
          "name": "stdout"
        }
      ]
    },
    {
      "cell_type": "markdown",
      "metadata": {
        "id": "OJ8l2R0zOjFb"
      },
      "source": [
        "<h2> Dicas </h2>"
      ]
    },
    {
      "cell_type": "markdown",
      "metadata": {
        "id": "fNkVMA5se0K5"
      },
      "source": [
        "Um dos grandes motivos do Python ter conseguido tanto espaço é a constante atualização para deixar cada vez mais acessível, rápido e fácil codificar, então as operações visto acima podem ser feitas da seguinte forma:"
      ]
    },
    {
      "cell_type": "code",
      "metadata": {
        "colab": {
          "base_uri": "https://localhost:8080/"
        },
        "id": "HIM-ButKfX07",
        "outputId": "c089ff1d-70d8-4b05-d1f1-b74b6a6adc4f"
      },
      "source": [
        "x = 1\n",
        "y = 1\n",
        "x+=10\n",
        "y+=10\n",
        "print('x:',x,'y:',y)\n",
        "print(\"x += 10 é equivalente a: x = x + 10\")\n"
      ],
      "execution_count": null,
      "outputs": [
        {
          "output_type": "stream",
          "text": [
            "x: 11 y: 11\n",
            "x += 10 é equivalente a: x = x + 10\n"
          ],
          "name": "stdout"
        }
      ]
    },
    {
      "cell_type": "markdown",
      "metadata": {
        "id": "6JNsXVpdPICs"
      },
      "source": [
        "<h1>Exercícios:<h1>"
      ]
    },
    {
      "cell_type": "markdown",
      "metadata": {
        "id": "RIh9DRYRPRYH"
      },
      "source": [
        "1. Faça pelo menos 1 exemplo com cada operador visto utilizando variáveis do mesmo tipo."
      ]
    },
    {
      "cell_type": "code",
      "metadata": {
        "id": "cN42M5YJPP4r"
      },
      "source": [
        ""
      ],
      "execution_count": null,
      "outputs": []
    },
    {
      "cell_type": "markdown",
      "metadata": {
        "id": "zWoHFDoqPQeZ"
      },
      "source": [
        "2. Repita o exercício 1 mas dessa vez utilizando variáveis de tipos diferentes, dessa vez verifique se o tipo dela alterou ou não."
      ]
    },
    {
      "cell_type": "code",
      "metadata": {
        "id": "G5OwUn5JPG39"
      },
      "source": [
        ""
      ],
      "execution_count": null,
      "outputs": []
    },
    {
      "cell_type": "markdown",
      "metadata": {
        "id": "CAAVU4DMPrPx"
      },
      "source": [
        "\n",
        "3. Faça 3 operações com operadores diferentes utilizando o formato passado na em Dicas.\n"
      ]
    },
    {
      "cell_type": "code",
      "metadata": {
        "id": "Np08VJ4QO0t6"
      },
      "source": [
        ""
      ],
      "execution_count": null,
      "outputs": []
    }
  ]
}