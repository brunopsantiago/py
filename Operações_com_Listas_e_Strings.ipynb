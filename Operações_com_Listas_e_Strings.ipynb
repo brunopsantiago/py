{
  "nbformat": 4,
  "nbformat_minor": 0,
  "metadata": {
    "colab": {
      "name": "Operações com Listas e Strings",
      "provenance": [],
      "include_colab_link": true
    },
    "kernelspec": {
      "name": "python3",
      "display_name": "Python 3"
    }
  },
  "cells": [
    {
      "cell_type": "markdown",
      "metadata": {
        "id": "view-in-github",
        "colab_type": "text"
      },
      "source": [
        "<a href=\"https://colab.research.google.com/github/brunopsantiago/py/blob/first/Opera%C3%A7%C3%B5es_com_Listas_e_Strings.ipynb\" target=\"_parent\"><img src=\"https://colab.research.google.com/assets/colab-badge.svg\" alt=\"Open In Colab\"/></a>"
      ]
    },
    {
      "cell_type": "markdown",
      "metadata": {
        "id": "-fMcBg4_E7HX"
      },
      "source": [
        "\n",
        "![images.png](data:image/png;base64,iVBORw0KGgoAAAANSUhEUgAAAfcAAABkCAMAAACsLolMAAAArlBMVEX///8iQJrkUob/u1lr+87iQHz88PT/tkny//pe+8v/+PEaO5gePZkNNZYTOZnS1+jz9fpWaq+rtNVPY6rp7PUALpTk5/Gapc0AJ5IAK5M8VKNbba8AMZX4+fyBj8F1hb2SnsnK0OXBx9765Orc4O6Z/NvtlbG1vdn/zo9HXactSqDm6vRufrh8ir6MmcZjdbM0T6KirNA/V6UAIJCxutkAIpAAGY/hLXP/sTP/zpAYTYZvAAARSklEQVR4nO2dCZfiOnbHcTKTmUSLDdhQFDbYxBmCiz28SfL9v1i0WbuNuxumoKP/Oe+camNL1/pJV9uV32gUFBQUFBQUFBQUFBQUFBQUFBQUFBQUFPTSKrZCt1heKj8XH80x/U6zfkDJ8fzxcS6T77bjvVRliCubiiuzTwSjCKKo+lbDhipuuLnn+P69QVIViLjAmF8olphfgPAdmlCyEy8APovvtuWdVGGL+yYTF6J8/r2mDdIkb81Ft++25Z3kcD+0FyJweoMWtATS3P132/JOcrifZEHC3Rtwv0LJfXr/7qBWDve9akDjN+A+VuaevtuWd5LD/SI7TLz6XtMG6Yhk//4Ow5GXkcM9bVrP+V/195o2SDUU5sJ89t22vJMc7mRAz1wnzN6j/Uy4uSCffLclbyWX+6ia4ixHu3eZFm12KM/RdPPddryXPNxHRb3Zxu+waMOVxNt3Mvc15OMe9PsrcP9/ouSrruuZdIs/yb1Ihsztk5TkVX8NXwZIZuT+h24EstetZ31pFunMKJLfT0Vc7qdnArnZ7eczhsPlfjmshMSFWlw4bEUqVblfjsfLddnXqxazy378GUEQnceHLb8xaSVqQlK2WdEpY7FdTxsyLftcHmszpe38uDrOb7Uvu3mbRNn1usSEZnc6xt7ql25Xy2sTYVokl9Rr5bsrKT8zhCGd8EIAUL6kQ2CHe7JDmOvvopgnC/7v7MBTOS8QACQFgLLPzm3vyThDgOVFMsNZcyGFWDf0ChESc65ZLvJakCp1O2dY3I/ytWygaXld5AhhhPJFs9/a+XydRRIIW5jS8qyZANDienFAVnucY9DekuM1XQMYY24l3v8O4JPjAsm1bE56ca083KftXR8td9QuhJJyKHM9FYjyiy+zG8hBpAvmzWYUR9BcWpu1N6FLcVro1iHM52XFKtPygyCLLPLpp/zZoJQeMut1iQ2ROTetpgvTygh/lKNRmyJY/gbcq08UOQLg4uy/d3OHu6Ke5nYaaOk0+dnSLnKaPr7EErPNHazH2LwdQgp+trOthuhk5NfB/RZZ6YmH9+rh4oiBe0t+KprfiPvW946sFCWX+9zPt7MnFXy1wMeNr8wj4jfbPx3uUeRUFNh8jWZXT0pop+fn5V6UuVvx+MPjdjU32TtVmL/OvhF//Qbct13lEGm7b/zWbu6kTLyp4KlRPnXkrWJ6Xh7unmTXyc5bgZDOw8t9lfme4w9f+cihOPmx6yXy9twrPzDzdQdw71B+0PL6avpgisIfwj3CSy/2KMqOKjsf92MXUmqrGFKe7r3UEO7pZju5bXsC++LbxPw5rba3yW3z07GARXUnR13J530Uv8I9QtriuA0LeqrcMO6u75fX1Yt7uG96sGcC+8W+x2PmHe7FdhphRKYa4FwSH5KCpol4A0h3TdOciOdb4jxHoCm/hK0T+gRi1w46u2JMHojMjaWKpNdgjoT+TKNK0iPNkT6+GrJXejTAkVkSxrkz8hrOnSZA8tavqFAX82YyrCcvhOzMOrhDMl1zDeNUDC5YhVS53JNGvxWSFJW1bchgajhAki8tY2sKcod7PJb3Q3TejNKMzE/XwiYyzR2P6jNvAvCDz3kunyoHiOD+S3GfkrmktaFYLcg7fwgkJL0ryfLadtcQReXdTijRezuMp/OqqjbHT2ukN5Q7wNMJSWByAlrDVg1eb6QYnLZxXddVeTZp+rmj66WKq5U7KiQ5Xa+Rbi9Q03uH+1xryhA16y2x9jLGNNW87SBW2isBtJtXxMp4MjWLpJf7Der3wuyW5HRIwm26QvLw6CrugBEdSybmRJXc3MhCK2iZ29wptYVEAnfmwAmiu9FQc/WS8OMgHURlzskGcs+WrYP62qv6JGOcJnpeK1Wjb0AvJh93uZhT2APtxZ5F8ldjlTaSZeRwT7XmjtWEfbbKoBwXfOlVdqfOCZA2rJdID/dbxnMBGAP2V14Cgztc0voHyc884DMV82gon4hg3lrHuKM73Au+vCQfR9N+8IUqGT4plir1ljWMuz6kGh3V8wthw1R5MmDklU71svbN41Txr3W7INq611UsncNdBVZH+mydQI2k7VpLyPUXshxBN/eaY0doeVjtufum/2ncI9K/wfx6OCzxH6QgiqsIZmlO5Ikdd/iyiIZwv9K3B2hKHj9zd48Ooz7Fmpu3ghMuWgEP4o7NWOW9fD7jKc8Wipe1sDZTka8+7khb95NnIViWqjiUaRForzncVWA1Nld4RqnEqIIxkR1DqNW5bu4FywTCFdvjSDZLUUI6d7oCcUvo7sK6aOsTvt6YEUm9Z40WRNzCAX6eJYhPNXv89smsxL2xJqpyo9L+7aCQDuEOz2ZJ1rI3F0lrpxjMdtS+SBd3aCz+aG3WiJLdyusfbQdvc5+d23/DqGvvoJZdgXvIRqtz3dy3GcMuPVQhZo4md6Q8WM3aA1ori7as6EQpDWjvLHnZNhLmV/u3UGVgNDw775GqYfIQ7k4Mm2wd4tCCPHQBG7fQVYS2y90Mhk3V6DDT5zuq787aqm5zr1TN6wy40+5x9nk40zvcWXPPdctEe9a56zV/xUaVhm+p2BM5q7/DuC+03YWCVU/cc4QxGcs26QmULCXTAdzh+ct6XDZAyAYZhXSybnNv39TPfWEsRRTy8AY0FmXVdTkksrlfpLFRZ5FIDwgbT3nJ/qiTO9tnQOaG1Nju3yMtvjeh9RjszFQmmSyJQX7e7JKYq8U9PbwqmMyzzKOq/gDu7smEr7Y/5z1AKsss89VEScjD3bxz1foN683kdVnqNnfbA/kkvZLg1JF3J3dab6C1K8H2NXXuep1iZw5zuzemzoufRRvU3nMzQ/oSPXV7NJO+8cP3sxyIDeDuHqQoZHtnfv2rsZ81JIdTLndg3indkDUkkStQ0nfZ3JeOR3Cl7nHdvDa46ORO38MuC4ZO567XO2q2y4i6Ju5Ch3C3htTi9+44orotlgj7fv6RfRm3oyjUFJHePJN55b68ZDtzuNuFUnZk6V63uUvr8+6+T9U/3z1y/NnJndZux6FRN6Fz1/uBE/D5lpiZySKNBvh5ZLkL1nc4PkSpVuPbrnd4HHc1VfPl5bTWJ3BvF8ki3L15sWsf8Y6L6nvcWe3G9umciblepyNhRer6luLcXh4yf2+sFfmC1l7kjXrhr9HfBn9kXDegvcsxpC+v1T+gvUum3rbM9YvtnQ7rYGN7WPqY0d4Vd/5vNy/pFoZw/7R7zjXoPRM46+1zkx/p3+9y1/p3X5EtO/v3x3GXTHtcYH//frvXv9MhHPy0uccWd82XsDUF4HJntOmLDFuft0RbkW/aJJTKFuAric2PjOfvcr8znlfe4Hnc5SIB7i4SNZ73nfiVeXRx33i506WZLu60OUC332GeuhwNau/2LFAMKHqOLMs5L/DMWrQl7wdw1+bvpZtX3D1/fxx3NTc/d5bIpW/+Xsh20tveHT//E+191+fnN7/Y3vUT4s5mff1D67R3uWvrdU53pHXvz+SuHFj3Ypa2Xue6QG1Fo6t/pzk647pt3snd7u9bUdPZdNPLPTe5OyvK+/7+XftQkfPBGrX+9SDu2pKuM9LU6tgTudfOBMVV3z2F9sGcDu5sFdlZBKOmdXBPPFhHYtWZdYicu1liE4t7Y62V8jFBz6HlBKh1Mqs70LZlHsNd7cfpsVD8VlWgz+Su7QQ7B/ilu+u5R9ui7Zy/n6GnLPagkzvrat31QxbCjuT83eLOXlWbv9vjg4R6T+8wqpX6QlWU61uT6VLD/hjuahoVQWgtuWuZPZO7Bs4IFhgV+4+NnYwDXg/WMbgnsToURgdF0PqKEhu7dXFnXa0ztS3Zeh0dJ/C5uGkJ2+PW120sB8q2RrxLsK1itSke4eYiOqZ6bga+Pob7RZUoxBdVyWJ9S/2p3GdaJB6eysJPtlcMoXCLMy3uAO9VT/21MlqC4p6u6cG9tbiTdb1mWAm3rIt7RQk439cDsN3yYL7Q3IpI2X6y3t6tMSjzIf1nWTUPSyPOTquyPCwb+9TUQ7gneqhMvitrer4w3e6NMKuncjdDZvDyuKln8W21Y18zxWLCrkf04OawSamZ8epsRhJK7u2nWz95T8G27MBV7wX4EbAu7gmFaAcvMMckWjHtJMyRG29Axr6MUW/oZPLepxprIxgVAowQBib1R3E3Y3cBWkTX3RnZkapP5Z6aYYMoXyyyXERMwoyDrzUXSGpDhj93V7iwThko7vs2nkY495JmgbVRsoj26OIuHL1xznKj7b/z3zNtFUlEtOjcYaRNx2aNd9HQ0qX7/Ih6y8dwT64mYysC2kzoKdzd2HhdIoDecOjcTLdEWu4qrCgXDZ5hRtc2PG4iakwn9/SDGT1WY/I5c7ft/JutEcJGjogq4YyNuAvYyCRr5j/z0uZh63gf/IO4k9mtW4K2nstdNs+evAv/ESyzRFrusROfs2H+AuLrcbu5HZrWUXRyF6NNAMuahdxt+HlP2LQx/6xegKikAXtptafY6XcKrPg6sKaPkw6JZQh27hqJzefQ0QYUo0dxV+vb3Zk9mXvSdwgK8flU3XmGyJ2/q8hAGZcl/AXpRfIcw/bdxNDMw12cy4Io2i2XUxEQq0Xo8QhVMviaLpfsZANa0T7fbO/0gCJ5fAd5Wn1RVlIr/zkUtG3jEB/GnfhZb4uHqIyshJ7EnYDvrHv5oW3EZ3+LR0fn/Hsss1AxdVYO+WGvgjF83JM2+h8CIDyiHGXSkhDVDdKfqRXLxOIOLuwH8Tv5YzHsQ3ObxsWBolid8n8Y99Em8rQ3gCq5Jfxs7qRjs79oIIzIVGGlU0/9hIujXIOQ3It2kw9oc6lyoUVcfxz5tijvrn3cR8X6w8gO5o2+wLHBxkxomrCJmj5/r2L9OA8Cvr1En4p5k+ujeIjZ10TatSvFvU19EHeRIATGofRDbo2NYTau1Zaw5N7eBaGZ7k9wh+b3LuJT7kxZcH4yVtUv9lyWONCtmvaq8XzMD0UBY2+lpt9IwYB9MaYylstT4qmBG++z2clSgSBvrANu9WnRtmTE/MYJAfCHQMLX9+upPKWjfQjmvpLb6UyncFQInfesvp1y/n2YXARNEockvm/TnoG5LdoLzpp7EbVfl7GC1eO9VskgRrsJHbC036LJREJfUKSMrEWJeUeW88y+nl6lBZZp1SnS0EOA4MneGknLay5ntITF+UBLcy1LRJKJxzDL8NhC+bVd7U+n9ZwdZqDcxRZ6ul8ul2N337XYrHcRyrIcnk8Th1tR7a8wJz9e+VnZI0mEzxtlnFVy2UXkjmh3+NFPB8+qy+E0ni7380rMKepYqJ1jzNoLreGFvOCOH+XTjiGz7amhx8eI/zqvN/xJJ6Gux5OOLD3Xuy0Y1TduAqkZsBnPfWWVbFbXiNU+csdtZhaA7hzizcb/QaxW1Ev0xHq0+dVxVVWxHY8ulLIfnVLW4uuKmtzh/a7XK+mLlNam+tbvRFMTtpuq7mGW1NWm/w5L6WTrkGP9jWeP/RHyxlUG/cMVLxDKr2Y9oWv28PycKh64v4bo+p293UgnAc/61Gvg/hri5yKW+iW27uILLnuEAvcXEdvOQ2rEzj/JwL9r8QQF7i8i/kkBMu9bX26T+T7i+42LZ/0fLwL3V5HY54L861J8ASD3HbJ8iAL3V1Hh7PxA9LyvGAfur6PS+OwxyHtOqv2yAvcXUnpsFmzRm/j6xfXyzCW05POPj4+/D92HCXqyinhyPKzXh+Nt9uQP2f7U/wXhr68sYt+/vLZGo397aXVy/49/fV39aTT69//+8yvrb6PR//zlhfWf3dz/9MIi3P/8T68swv0v//zCCtyfo8D9KQrcf1GB+3MUuD9FgfsvKnB/jgL3pyhw/0UF7s/Rq3P/307uQUFBQUFBQUFBQUFBQUFBQUFBQUFBQUFBQU/S/wGPhR9JaAIbSwAAAABJRU5ErkJggg==)</b> <br>Consultor: Peterson Almeida <br>\n",
        "\n",
        "\n",
        "\n",
        "<h1> Operações com Lista </h1>\n",
        "\n",
        "<b> Geral:</b><br>\n",
        "Vimos já um poucos de listas, agora vamos entrar mais afundo nas operações que podemos fazer em objetos do tipo lista.\n",
        "<br> <br>\n",
        "\n",
        "\n",
        "\n",
        "\n"
      ]
    },
    {
      "cell_type": "markdown",
      "metadata": {
        "id": "YwmBUj9HTMf-"
      },
      "source": [
        "<b>Operações com Listas</b> <br>\n",
        "Abaixo tem as operações que temos prontas para utilizar com listas: \n",
        "\n",
        "1.   Append() -> Adiciona um elemento no final da lista.\n",
        "2. Clear() -> Remove todos os itens da lista.\n",
        "3.   Copy() -> Faz uma cópia da lista.\n",
        "4. Count() -> Retorna a quantidade de elementos da lista.\n",
        "5. Extend() -> Adiciona elementos iteráveis no final da lista.\n",
        "6. Index() -> Retorna o endereço do elemento da lista.\n",
        "7. Insert() -> Insere um elemento na lista com o endereço específicado.\n",
        "8. Pop() -> Remove um elemento do endereço especifícado.\n",
        "9. Remove() -> Remove o primeiro elemento encontrado pelo valor específicado.\n",
        "10. Reverse() -> Inverte a ordem da lista.\n",
        "11. Sort() -> Ordena a lista por algum chave específicada.\n"
      ]
    },
    {
      "cell_type": "markdown",
      "metadata": {
        "id": "Hw7UPk70X5CX"
      },
      "source": [
        "**Append()**"
      ]
    },
    {
      "cell_type": "code",
      "metadata": {
        "id": "6kBxzEzYWx12",
        "colab": {
          "base_uri": "https://localhost:8080/"
        },
        "outputId": "873039cb-a9ae-485e-dcf2-93857bc6e020"
      },
      "source": [
        "lista_1 =[1,2,4,3,5,8,7,9]\n",
        "print(lista_1)\n",
        "lista_1.append(20)\n",
        "print(lista_1)\n",
        "lista_1.append([20,10])\n",
        "print(lista_1)\n",
        "lista_1.append([20])\n",
        "print(lista_1)\n",
        "lista_1.append(5)\n",
        "print(lista_1)"
      ],
      "execution_count": null,
      "outputs": [
        {
          "output_type": "stream",
          "text": [
            "[1, 2, 4, 3, 5, 8, 7, 9]\n",
            "[1, 2, 4, 3, 5, 8, 7, 9, 20]\n",
            "[1, 2, 4, 3, 5, 8, 7, 9, 20, [20, 10]]\n",
            "[1, 2, 4, 3, 5, 8, 7, 9, 20, [20, 10], [20]]\n",
            "[1, 2, 4, 3, 5, 8, 7, 9, 20, [20, 10], [20], 5]\n"
          ],
          "name": "stdout"
        }
      ]
    },
    {
      "cell_type": "markdown",
      "metadata": {
        "id": "HSi88BZGMECg"
      },
      "source": [
        "**Copy()**"
      ]
    },
    {
      "cell_type": "code",
      "metadata": {
        "id": "ZRPUB188JWET",
        "colab": {
          "base_uri": "https://localhost:8080/"
        },
        "outputId": "947dba3e-37bd-4a05-f580-998fc084ddd3"
      },
      "source": [
        "lista_2 = lista_1.copy()\n",
        "print(lista_1)\n",
        "print(lista_2)\n",
        "lista_2.append(9)\n",
        "print(lista_1)\n",
        "print(lista_2)\n",
        "lista_3 = lista_2\n",
        "print(lista_2)\n",
        "print(lista_3)\n",
        "lista_3.append(333)\n",
        "print(lista_1)\n",
        "print(lista_2)\n",
        "print(lista_3)\n",
        "print(id(lista_1))\n",
        "print(id(lista_2))\n",
        "print(id(lista_3))"
      ],
      "execution_count": null,
      "outputs": [
        {
          "output_type": "stream",
          "text": [
            "[1, 2, 4, 3, 5, 8, 7, 9, 20, [20, 10], [20], 5]\n",
            "[1, 2, 4, 3, 5, 8, 7, 9, 20, [20, 10], [20], 5]\n",
            "[1, 2, 4, 3, 5, 8, 7, 9, 20, [20, 10], [20], 5]\n",
            "[1, 2, 4, 3, 5, 8, 7, 9, 20, [20, 10], [20], 5, 9]\n",
            "[1, 2, 4, 3, 5, 8, 7, 9, 20, [20, 10], [20], 5, 9]\n",
            "[1, 2, 4, 3, 5, 8, 7, 9, 20, [20, 10], [20], 5, 9]\n",
            "[1, 2, 4, 3, 5, 8, 7, 9, 20, [20, 10], [20], 5]\n",
            "[1, 2, 4, 3, 5, 8, 7, 9, 20, [20, 10], [20], 5, 9, 333]\n",
            "[1, 2, 4, 3, 5, 8, 7, 9, 20, [20, 10], [20], 5, 9, 333]\n",
            "140688266945480\n",
            "140688257311944\n",
            "140688257311944\n"
          ],
          "name": "stdout"
        }
      ]
    },
    {
      "cell_type": "markdown",
      "metadata": {
        "id": "dN8gvICFPJL4"
      },
      "source": [
        "**Clear()**"
      ]
    },
    {
      "cell_type": "code",
      "metadata": {
        "colab": {
          "base_uri": "https://localhost:8080/"
        },
        "id": "ZqeIr7IqPLhc",
        "outputId": "05e5a93f-3856-4d5d-d63f-fb6aa0c06f2f"
      },
      "source": [
        "lista_del = [10,3,2,4,[2,4],7]\n",
        "print(lista_del)\n",
        "lista_del.clear()\n",
        "print(lista_del)\n"
      ],
      "execution_count": null,
      "outputs": [
        {
          "output_type": "stream",
          "text": [
            "[10, 3, 2, 4, [2, 4], 7]\n",
            "[]\n"
          ],
          "name": "stdout"
        }
      ]
    },
    {
      "cell_type": "markdown",
      "metadata": {
        "id": "vUGb4Xi8brZu"
      },
      "source": [
        "**Count()**"
      ]
    },
    {
      "cell_type": "code",
      "metadata": {
        "id": "rZ1_nQ4kWgmS",
        "colab": {
          "base_uri": "https://localhost:8080/"
        },
        "outputId": "43a8d234-2c95-4d04-ffd5-11debd521907"
      },
      "source": [
        "print(lista_1.count(2))\n",
        "print(lista_2.count(9))\n",
        "print(lista_2.count(20))\n",
        "print(lista_2.count([20]))\n"
      ],
      "execution_count": null,
      "outputs": [
        {
          "output_type": "stream",
          "text": [
            "1\n",
            "2\n",
            "1\n",
            "1\n"
          ],
          "name": "stdout"
        }
      ]
    },
    {
      "cell_type": "markdown",
      "metadata": {
        "id": "My0YBtCsMNBV"
      },
      "source": [
        "**Extend()**"
      ]
    },
    {
      "cell_type": "code",
      "metadata": {
        "colab": {
          "base_uri": "https://localhost:8080/"
        },
        "id": "U2c8cK4lY81Q",
        "outputId": "dc5e624e-037f-483d-ceea-11c02c2f706e"
      },
      "source": [
        "print(lista_1)\n",
        "lista_1.extend([10,30,20,30])\n",
        "print(lista_1)\n",
        "lista_1.extend(lista_1)\n",
        "print(lista_1)\n",
        "lista_4 = [10,9,8,7,5,6,4,2,3,1,2,3]\n",
        "lista_4.extend((3,3,3))\n",
        "print(lista_4)"
      ],
      "execution_count": null,
      "outputs": [
        {
          "output_type": "stream",
          "text": [
            "[1, 2, 4, 3, 5, 8, 7, 9, 20, [20, 10], [20], 5, 10, 30, 20, 30, 10, 30, 20, 30, 1, 2, 4, 3, 5, 8, 7, 9, 20, [20, 10], [20], 5, 10, 30, 20, 30, 10, 30, 20, 30]\n",
            "[1, 2, 4, 3, 5, 8, 7, 9, 20, [20, 10], [20], 5, 10, 30, 20, 30, 10, 30, 20, 30, 1, 2, 4, 3, 5, 8, 7, 9, 20, [20, 10], [20], 5, 10, 30, 20, 30, 10, 30, 20, 30, 10, 30, 20, 30]\n",
            "[1, 2, 4, 3, 5, 8, 7, 9, 20, [20, 10], [20], 5, 10, 30, 20, 30, 10, 30, 20, 30, 1, 2, 4, 3, 5, 8, 7, 9, 20, [20, 10], [20], 5, 10, 30, 20, 30, 10, 30, 20, 30, 10, 30, 20, 30, 1, 2, 4, 3, 5, 8, 7, 9, 20, [20, 10], [20], 5, 10, 30, 20, 30, 10, 30, 20, 30, 1, 2, 4, 3, 5, 8, 7, 9, 20, [20, 10], [20], 5, 10, 30, 20, 30, 10, 30, 20, 30, 10, 30, 20, 30]\n",
            "[10, 9, 8, 7, 5, 6, 4, 2, 3, 1, 2, 3, 3, 3, 3]\n"
          ],
          "name": "stdout"
        }
      ]
    },
    {
      "cell_type": "markdown",
      "metadata": {
        "id": "BO_vIJWqMSA1"
      },
      "source": [
        "**Index()**"
      ]
    },
    {
      "cell_type": "code",
      "metadata": {
        "id": "Fl0ltvz4Om3_",
        "colab": {
          "base_uri": "https://localhost:8080/",
          "height": 270
        },
        "outputId": "b7759755-a685-4919-b3a7-4459313e59c9"
      },
      "source": [
        "print(lista_1.index(9))\n",
        "print(lista_1.index(9,10))\n",
        "print(lista_1.index(9,2,40))\n",
        "print(lista_1.index(9,10,20))\n",
        "\n"
      ],
      "execution_count": null,
      "outputs": [
        {
          "output_type": "stream",
          "text": [
            "7\n",
            "27\n",
            "7\n"
          ],
          "name": "stdout"
        },
        {
          "output_type": "error",
          "ename": "ValueError",
          "evalue": "ignored",
          "traceback": [
            "\u001b[0;31m---------------------------------------------------------------------------\u001b[0m",
            "\u001b[0;31mValueError\u001b[0m                                Traceback (most recent call last)",
            "\u001b[0;32m<ipython-input-21-132fa79c6ce9>\u001b[0m in \u001b[0;36m<module>\u001b[0;34m()\u001b[0m\n\u001b[1;32m      2\u001b[0m \u001b[0mprint\u001b[0m\u001b[0;34m(\u001b[0m\u001b[0mlista_1\u001b[0m\u001b[0;34m.\u001b[0m\u001b[0mindex\u001b[0m\u001b[0;34m(\u001b[0m\u001b[0;36m9\u001b[0m\u001b[0;34m,\u001b[0m\u001b[0;36m10\u001b[0m\u001b[0;34m)\u001b[0m\u001b[0;34m)\u001b[0m\u001b[0;34m\u001b[0m\u001b[0;34m\u001b[0m\u001b[0m\n\u001b[1;32m      3\u001b[0m \u001b[0mprint\u001b[0m\u001b[0;34m(\u001b[0m\u001b[0mlista_1\u001b[0m\u001b[0;34m.\u001b[0m\u001b[0mindex\u001b[0m\u001b[0;34m(\u001b[0m\u001b[0;36m9\u001b[0m\u001b[0;34m,\u001b[0m\u001b[0;36m2\u001b[0m\u001b[0;34m,\u001b[0m\u001b[0;36m40\u001b[0m\u001b[0;34m)\u001b[0m\u001b[0;34m)\u001b[0m\u001b[0;34m\u001b[0m\u001b[0;34m\u001b[0m\u001b[0m\n\u001b[0;32m----> 4\u001b[0;31m \u001b[0mprint\u001b[0m\u001b[0;34m(\u001b[0m\u001b[0mlista_1\u001b[0m\u001b[0;34m.\u001b[0m\u001b[0mindex\u001b[0m\u001b[0;34m(\u001b[0m\u001b[0;36m9\u001b[0m\u001b[0;34m,\u001b[0m\u001b[0;36m10\u001b[0m\u001b[0;34m,\u001b[0m\u001b[0;36m20\u001b[0m\u001b[0;34m)\u001b[0m\u001b[0;34m)\u001b[0m\u001b[0;34m\u001b[0m\u001b[0;34m\u001b[0m\u001b[0m\n\u001b[0m\u001b[1;32m      5\u001b[0m \u001b[0;34m\u001b[0m\u001b[0m\n",
            "\u001b[0;31mValueError\u001b[0m: 9 is not in list"
          ]
        }
      ]
    },
    {
      "cell_type": "markdown",
      "metadata": {
        "id": "aDIU7YmtMWi-"
      },
      "source": [
        "**Insert()**"
      ]
    },
    {
      "cell_type": "code",
      "metadata": {
        "colab": {
          "base_uri": "https://localhost:8080/"
        },
        "id": "OH_N400gjhNn",
        "outputId": "4b5b75da-289a-4d9d-a242-f561ee99e626"
      },
      "source": [
        "print(lista_4)\n",
        "lista_4.insert(2,77)\n",
        "print(lista_4)\n"
      ],
      "execution_count": null,
      "outputs": [
        {
          "output_type": "stream",
          "text": [
            "[10, 9, 8, 7, 5, 6, 4, 2, 3, 1, 2, 3, 3, 3, 3]\n",
            "[10, 9, 77, 8, 7, 5, 6, 4, 2, 3, 1, 2, 3, 3, 3, 3]\n"
          ],
          "name": "stdout"
        }
      ]
    },
    {
      "cell_type": "markdown",
      "metadata": {
        "id": "wcbyquohMcH9"
      },
      "source": [
        "**Pop()**"
      ]
    },
    {
      "cell_type": "code",
      "metadata": {
        "colab": {
          "base_uri": "https://localhost:8080/"
        },
        "id": "rk61S0FSMikO",
        "outputId": "c4d23b83-b60f-42a5-e9ad-680bafc7b97f"
      },
      "source": [
        "print(lista_4)\n",
        "lista_4.pop(2)\n",
        "print(lista_4)\n",
        "lista_4.pop(-1)\n",
        "print(lista_4)"
      ],
      "execution_count": null,
      "outputs": [
        {
          "output_type": "stream",
          "text": [
            "[10, 9, 77, 8, 7, 5, 6, 4, 2, 3, 1, 2, 3, 3, 3, 3]\n",
            "[10, 9, 8, 7, 5, 6, 4, 2, 3, 1, 2, 3, 3, 3, 3]\n",
            "[10, 9, 8, 7, 5, 6, 4, 2, 3, 1, 2, 3, 3, 3]\n"
          ],
          "name": "stdout"
        }
      ]
    },
    {
      "cell_type": "markdown",
      "metadata": {
        "id": "w3hmsQ7bgkBh"
      },
      "source": [
        "**Remove()**"
      ]
    },
    {
      "cell_type": "code",
      "metadata": {
        "id": "D05dzWR7OqW1",
        "colab": {
          "base_uri": "https://localhost:8080/",
          "height": 253
        },
        "outputId": "770edf74-41b3-4232-e28b-05d0b393cd72"
      },
      "source": [
        "print(lista_4)\n",
        "lista_4.remove(2)\n",
        "print(lista_4)\n",
        "lista_4.remove(-1)\n",
        "print(lista_4)"
      ],
      "execution_count": null,
      "outputs": [
        {
          "output_type": "stream",
          "text": [
            "[10, 9, 8, 7, 5, 6, 4, 2, 3, 1, 2, 3, 3, 3]\n",
            "[10, 9, 8, 7, 5, 6, 4, 3, 1, 2, 3, 3, 3]\n"
          ],
          "name": "stdout"
        },
        {
          "output_type": "error",
          "ename": "ValueError",
          "evalue": "ignored",
          "traceback": [
            "\u001b[0;31m---------------------------------------------------------------------------\u001b[0m",
            "\u001b[0;31mValueError\u001b[0m                                Traceback (most recent call last)",
            "\u001b[0;32m<ipython-input-26-b349d2e887f5>\u001b[0m in \u001b[0;36m<module>\u001b[0;34m()\u001b[0m\n\u001b[1;32m      2\u001b[0m \u001b[0mlista_4\u001b[0m\u001b[0;34m.\u001b[0m\u001b[0mremove\u001b[0m\u001b[0;34m(\u001b[0m\u001b[0;36m2\u001b[0m\u001b[0;34m)\u001b[0m\u001b[0;34m\u001b[0m\u001b[0;34m\u001b[0m\u001b[0m\n\u001b[1;32m      3\u001b[0m \u001b[0mprint\u001b[0m\u001b[0;34m(\u001b[0m\u001b[0mlista_4\u001b[0m\u001b[0;34m)\u001b[0m\u001b[0;34m\u001b[0m\u001b[0;34m\u001b[0m\u001b[0m\n\u001b[0;32m----> 4\u001b[0;31m \u001b[0mlista_4\u001b[0m\u001b[0;34m.\u001b[0m\u001b[0mremove\u001b[0m\u001b[0;34m(\u001b[0m\u001b[0;34m-\u001b[0m\u001b[0;36m1\u001b[0m\u001b[0;34m)\u001b[0m\u001b[0;34m\u001b[0m\u001b[0;34m\u001b[0m\u001b[0m\n\u001b[0m\u001b[1;32m      5\u001b[0m \u001b[0mprint\u001b[0m\u001b[0;34m(\u001b[0m\u001b[0mlista_4\u001b[0m\u001b[0;34m)\u001b[0m\u001b[0;34m\u001b[0m\u001b[0;34m\u001b[0m\u001b[0m\n",
            "\u001b[0;31mValueError\u001b[0m: list.remove(x): x not in list"
          ]
        }
      ]
    },
    {
      "cell_type": "markdown",
      "metadata": {
        "id": "TwYHSZMyMnUT"
      },
      "source": [
        "**Reverse()**"
      ]
    },
    {
      "cell_type": "code",
      "metadata": {
        "id": "K9gcbgeWOzjM",
        "colab": {
          "base_uri": "https://localhost:8080/"
        },
        "outputId": "c65d16ec-f3d5-434b-c736-a819dbb18922"
      },
      "source": [
        "print(lista_4)\n",
        "lista_4.reverse()\n",
        "print(lista_4)\n",
        "lista_4.reverse()\n",
        "print(lista_4)\n"
      ],
      "execution_count": null,
      "outputs": [
        {
          "output_type": "stream",
          "text": [
            "[10, 9, 8, 7, 5, 6, 4, 3, 1, 2, 3, 3, 3]\n",
            "[3, 3, 3, 2, 1, 3, 4, 6, 5, 7, 8, 9, 10]\n",
            "[10, 9, 8, 7, 5, 6, 4, 3, 1, 2, 3, 3, 3]\n"
          ],
          "name": "stdout"
        }
      ]
    },
    {
      "cell_type": "markdown",
      "metadata": {
        "id": "ajPq87-yZ8yp"
      },
      "source": [
        "**Sort()**\n",
        "\n"
      ]
    },
    {
      "cell_type": "code",
      "metadata": {
        "colab": {
          "base_uri": "https://localhost:8080/"
        },
        "id": "j0Q_GnnDMxLt",
        "outputId": "132cd694-b107-4b28-9bd7-d43ba2123c21"
      },
      "source": [
        "print(lista_4)\n",
        "lista_4.sort()\n",
        "print(lista_4)\n",
        "lista_4.reverse()\n",
        "print(lista_4)\n",
        "print(sorted(lista_4))\n",
        "print(lista_4)\n",
        "lista_4.sort(reverse=True)\n",
        "print(lista_4)\n",
        "print(5*\"--\")\n",
        "lista_5=['Peter','Fulano','Ciclano','Pet']\n",
        "print(lista_5)\n",
        "lista_5.sort(key=len)\n",
        "print(lista_5)\n",
        "lista_5.sort(key=len,reverse=True)\n",
        "print(lista_5)\n",
        "\n"
      ],
      "execution_count": null,
      "outputs": [
        {
          "output_type": "stream",
          "text": [
            "[10, 9, 8, 7, 6, 5, 4, 3, 3, 3, 3, 2, 1]\n",
            "[1, 2, 3, 3, 3, 3, 4, 5, 6, 7, 8, 9, 10]\n",
            "[10, 9, 8, 7, 6, 5, 4, 3, 3, 3, 3, 2, 1]\n",
            "[1, 2, 3, 3, 3, 3, 4, 5, 6, 7, 8, 9, 10]\n",
            "[10, 9, 8, 7, 6, 5, 4, 3, 3, 3, 3, 2, 1]\n",
            "[10, 9, 8, 7, 6, 5, 4, 3, 3, 3, 3, 2, 1]\n",
            "----------\n",
            "['Peter', 'Fulano', 'Ciclano', 'Pet']\n",
            "['Pet', 'Peter', 'Fulano', 'Ciclano']\n",
            "['Ciclano', 'Fulano', 'Peter', 'Pet']\n"
          ],
          "name": "stdout"
        }
      ]
    },
    {
      "cell_type": "markdown",
      "metadata": {
        "id": "5IOBiKO0MxmG"
      },
      "source": [
        "<h2> List Comprehension </h2> <br> List Comprehension é um dos grandes marcos de Python, podemos criar loop dentro de uma lista para gerar ela."
      ]
    },
    {
      "cell_type": "code",
      "metadata": {
        "colab": {
          "base_uri": "https://localhost:8080/"
        },
        "id": "-CzY9sYkM3PW",
        "outputId": "8b664e72-4227-41f9-97ad-27edd401d306"
      },
      "source": [
        "lista_6 =[a for a in range(10)]\n",
        "print(lista_6)"
      ],
      "execution_count": null,
      "outputs": [
        {
          "output_type": "stream",
          "text": [
            "[0, 1, 2, 3, 4, 5, 6, 7, 8, 9]\n"
          ],
          "name": "stdout"
        }
      ]
    },
    {
      "cell_type": "code",
      "metadata": {
        "colab": {
          "base_uri": "https://localhost:8080/"
        },
        "id": "QjCcsIDVTm1w",
        "outputId": "95cacf09-0913-419f-f98a-ffba7ed1ac57"
      },
      "source": [
        "lista_7 = [a for a in range(10) if a%2==0]\n",
        "print(lista_7)"
      ],
      "execution_count": null,
      "outputs": [
        {
          "output_type": "stream",
          "text": [
            "[0, 2, 4, 6, 8]\n"
          ],
          "name": "stdout"
        }
      ]
    },
    {
      "cell_type": "markdown",
      "metadata": {
        "id": "6JNsXVpdPICs"
      },
      "source": [
        "<h1>Exercícios:<h1>"
      ]
    },
    {
      "cell_type": "markdown",
      "metadata": {
        "id": "RIh9DRYRPRYH"
      },
      "source": [
        "1. Construa uma lista de inteiros e ordene elas do maior para o menor.\n",
        "\n"
      ]
    },
    {
      "cell_type": "code",
      "metadata": {
        "id": "cN42M5YJPP4r"
      },
      "source": [
        ""
      ],
      "execution_count": null,
      "outputs": []
    },
    {
      "cell_type": "markdown",
      "metadata": {
        "id": "ooHbr2yfeHe-"
      },
      "source": [
        "2. Adicione os valores 10,7,33,22 com uma única linha de código e deixe-os ordenados também em uma segunda linha de código."
      ]
    },
    {
      "cell_type": "code",
      "metadata": {
        "id": "G5OwUn5JPG39"
      },
      "source": [
        ""
      ],
      "execution_count": null,
      "outputs": []
    },
    {
      "cell_type": "markdown",
      "metadata": {
        "id": "GLnWQ_toeaX3"
      },
      "source": [
        "3. Gere uma lista de nomes e ordene ela pelo tamanho de cada nome."
      ]
    },
    {
      "cell_type": "code",
      "metadata": {
        "id": "8wlFzVjleZmO"
      },
      "source": [
        ""
      ],
      "execution_count": null,
      "outputs": []
    },
    {
      "cell_type": "markdown",
      "metadata": {
        "id": "2xk8HAyve9z1"
      },
      "source": [
        "4. Crie uma lista que vá de 1 até 100."
      ]
    },
    {
      "cell_type": "code",
      "metadata": {
        "id": "Np08VJ4QO0t6"
      },
      "source": [
        ""
      ],
      "execution_count": null,
      "outputs": []
    },
    {
      "cell_type": "markdown",
      "metadata": {
        "id": "2L2OhztWfGyy"
      },
      "source": [
        "5. Em uma nova lista adicione somente os valores ímpares de 1 a 100."
      ]
    },
    {
      "cell_type": "code",
      "metadata": {
        "id": "3E5fPb7vfLzT"
      },
      "source": [
        ""
      ],
      "execution_count": null,
      "outputs": []
    },
    {
      "cell_type": "markdown",
      "metadata": {
        "id": "AxcaRdExU1ZN"
      },
      "source": [
        "<h1>Strings</h1> <br> \n",
        "Strings é uma das estruturas com mais métodos disponíveis, devido a sua abrangência e complexidade.<br> Vamos ver aqui uma lista com os principais métodos e ver exemplos de alguns deles.<br><br>\n",
        "\n",
        "1.   capitalize()\t-> Converte a primeira letra para maiúsculo.\n",
        "2. casefold()\t-> Converte a string para minúsculo.\n",
        "3. center()\t-> Retorna a string como centro e preenche com espaços o restante do tamanho.\n",
        "4. count()\t-> Retorna o tamanho da palavra.\n",
        "5. encode()\t-> Retorna a string codificada.\n",
        "6. endswith()\t-> Retorna um booleano se o final da string corresponder ao valor específicado.\n",
        "7. find()\t->Procura um determinado valor e retorna a posição dele caso encontrado.\n",
        "8. isdecimal()\t-> Retorna um booleano dizendo se todos os caracteres são decimais.\n",
        "9. isdigit()\t-> Retorna um booleano dizendo se todos os caracteres são dígitos.\n",
        "10. islower()\t-> Retorna um booleano caso todos os caracteres sejam minúsculos\n",
        "11. isnumeric()\t-> Retorna um booleano caso todos os caracteres sejam numéricos.\n",
        "12. isupper()\t-> Retorna um booleano caso todos os caracteres sejam maiúsculos.\n",
        "13. join()\t-> Junta dois elementos de um iterável em uma string.\n",
        "14. lower()\t-> Converte a string para minúsculo.\n",
        "15. replace()\t-> Altera determinado valor de uma string por outro.\n",
        "16. split()\t-> Divide a string por algum determinado separador.\n",
        "17. splitlines()\t-> Separa a string por linhas.\n",
        "18. startswith()\t-> Retorna um booleano se a string começar com determinado valor.\n",
        "19. strip()\t-> Retorna a string recortada por determinado valor.\n",
        "20. upper()\t-> Converte a string em letras maiúsculas\n",
        "\n",
        "\n",
        "<br> Esses são os 20 métodos mais utilizados, entretando existe mais de 40 métodos que podem ser consultados na documentação do python ou nesse [link](https://www.w3schools.com/python/python_ref_string.asp) com tutoriais. <br>\n",
        "\n"
      ]
    },
    {
      "cell_type": "code",
      "metadata": {
        "colab": {
          "base_uri": "https://localhost:8080/"
        },
        "id": "OzB9Z5JsZjev",
        "outputId": "cd3d11eb-a7d4-4752-f91d-3a188926a814"
      },
      "source": [
        "texto = 'vou Treinar todo Dia Python'\n",
        "print(texto.capitalize())\n",
        "print(texto)\n"
      ],
      "execution_count": null,
      "outputs": [
        {
          "output_type": "stream",
          "text": [
            "Vou treinar todo dia python\n",
            "vou Treinar todo Dia Python\n"
          ],
          "name": "stdout"
        }
      ]
    },
    {
      "cell_type": "code",
      "metadata": {
        "colab": {
          "base_uri": "https://localhost:8080/"
        },
        "id": "k-fBA6EDeiav",
        "outputId": "c2ed766a-9f6a-496c-e624-8715b0455f23"
      },
      "source": [
        "print(texto)\n",
        "print(texto.casefold())\n",
        "print(texto.upper())\n",
        "print(texto.lower())\n"
      ],
      "execution_count": null,
      "outputs": [
        {
          "output_type": "stream",
          "text": [
            "vou Treinar todo Dia Python\n",
            "vou treinar todo dia python\n",
            "VOU TREINAR TODO DIA PYTHON\n",
            "vou treinar todo dia python\n"
          ],
          "name": "stdout"
        }
      ]
    },
    {
      "cell_type": "code",
      "metadata": {
        "colab": {
          "base_uri": "https://localhost:8080/"
        },
        "id": "djjDnRzYe2w1",
        "outputId": "ccb00d27-66ec-496e-8fb8-9eacb9258815"
      },
      "source": [
        "texto.find('Python')"
      ],
      "execution_count": null,
      "outputs": [
        {
          "output_type": "execute_result",
          "data": {
            "text/plain": [
              "21"
            ]
          },
          "metadata": {
            "tags": []
          },
          "execution_count": 50
        }
      ]
    },
    {
      "cell_type": "code",
      "metadata": {
        "colab": {
          "base_uri": "https://localhost:8080/"
        },
        "id": "ilSPSvKEe__c",
        "outputId": "dd2604bd-3b31-47eb-ba4f-8ef46f3c0782"
      },
      "source": [
        "texto.split()"
      ],
      "execution_count": null,
      "outputs": [
        {
          "output_type": "execute_result",
          "data": {
            "text/plain": [
              "['vou', 'Treinar', 'todo', 'Dia', 'Python']"
            ]
          },
          "metadata": {
            "tags": []
          },
          "execution_count": 51
        }
      ]
    },
    {
      "cell_type": "code",
      "metadata": {
        "colab": {
          "base_uri": "https://localhost:8080/",
          "height": 35
        },
        "id": "waYZfb1CfH4h",
        "outputId": "0c04f2c9-f167-46c8-a963-81c19acef17b"
      },
      "source": [
        "texto.strip('vou')"
      ],
      "execution_count": null,
      "outputs": [
        {
          "output_type": "execute_result",
          "data": {
            "application/vnd.google.colaboratory.intrinsic+json": {
              "type": "string"
            },
            "text/plain": [
              "' Treinar todo Dia Python'"
            ]
          },
          "metadata": {
            "tags": []
          },
          "execution_count": 56
        }
      ]
    },
    {
      "cell_type": "code",
      "metadata": {
        "colab": {
          "base_uri": "https://localhost:8080/"
        },
        "id": "EnHWlSWBfKHZ",
        "outputId": "d7b2d807-716f-42be-c621-272c7daf9bda"
      },
      "source": [
        "texto.split('t')"
      ],
      "execution_count": null,
      "outputs": [
        {
          "output_type": "execute_result",
          "data": {
            "text/plain": [
              "['vou Treinar ', 'odo Dia Py', 'hon']"
            ]
          },
          "metadata": {
            "tags": []
          },
          "execution_count": 57
        }
      ]
    },
    {
      "cell_type": "code",
      "metadata": {
        "colab": {
          "base_uri": "https://localhost:8080/",
          "height": 35
        },
        "id": "oyjwxbsyfbkF",
        "outputId": "58426baf-e270-4802-f634-29834f500853"
      },
      "source": [
        "texto.split('t')[0]"
      ],
      "execution_count": null,
      "outputs": [
        {
          "output_type": "execute_result",
          "data": {
            "application/vnd.google.colaboratory.intrinsic+json": {
              "type": "string"
            },
            "text/plain": [
              "'vou Treinar '"
            ]
          },
          "metadata": {
            "tags": []
          },
          "execution_count": 58
        }
      ]
    },
    {
      "cell_type": "code",
      "metadata": {
        "colab": {
          "base_uri": "https://localhost:8080/",
          "height": 35
        },
        "id": "_-SyVOLhfeUF",
        "outputId": "7299c630-3a71-4c07-ccf1-563831af0b0e"
      },
      "source": [
        "texto.split()[-1]"
      ],
      "execution_count": null,
      "outputs": [
        {
          "output_type": "execute_result",
          "data": {
            "application/vnd.google.colaboratory.intrinsic+json": {
              "type": "string"
            },
            "text/plain": [
              "'Python'"
            ]
          },
          "metadata": {
            "tags": []
          },
          "execution_count": 59
        }
      ]
    },
    {
      "cell_type": "code",
      "metadata": {
        "colab": {
          "base_uri": "https://localhost:8080/",
          "height": 35
        },
        "id": "XOufBsp2fhOu",
        "outputId": "61623c45-0912-41b0-84c6-2fa323dca574"
      },
      "source": [
        "texto.strip('Python')"
      ],
      "execution_count": null,
      "outputs": [
        {
          "output_type": "execute_result",
          "data": {
            "application/vnd.google.colaboratory.intrinsic+json": {
              "type": "string"
            },
            "text/plain": [
              "'vou Treinar todo Dia '"
            ]
          },
          "metadata": {
            "tags": []
          },
          "execution_count": 62
        }
      ]
    },
    {
      "cell_type": "code",
      "metadata": {
        "colab": {
          "base_uri": "https://localhost:8080/",
          "height": 35
        },
        "id": "UdUexi9Bf2Be",
        "outputId": "e0eeb622-ae98-41e8-efd6-0b4f58e45e49"
      },
      "source": [
        "texto.replace('vou','Vamos')"
      ],
      "execution_count": null,
      "outputs": [
        {
          "output_type": "execute_result",
          "data": {
            "application/vnd.google.colaboratory.intrinsic+json": {
              "type": "string"
            },
            "text/plain": [
              "'Vamos Treinar todo Dia Python'"
            ]
          },
          "metadata": {
            "tags": []
          },
          "execution_count": 64
        }
      ]
    },
    {
      "cell_type": "code",
      "metadata": {
        "colab": {
          "base_uri": "https://localhost:8080/"
        },
        "id": "Ep5ErB9ygBlE",
        "outputId": "beca59f4-7a99-4b5d-c3d4-31b48783ef55"
      },
      "source": [
        "type(texto.split())"
      ],
      "execution_count": null,
      "outputs": [
        {
          "output_type": "execute_result",
          "data": {
            "text/plain": [
              "list"
            ]
          },
          "metadata": {
            "tags": []
          },
          "execution_count": 66
        }
      ]
    },
    {
      "cell_type": "code",
      "metadata": {
        "colab": {
          "base_uri": "https://localhost:8080/"
        },
        "id": "TNcJWOCxgPiv",
        "outputId": "3032de7d-0908-4b4d-d253-25c9658bab2f"
      },
      "source": [
        "texto_2 = 'vou treinar todos os dias Python \\npelo menos 2 horas e 30 minutos por dia'\n",
        "print(texto_2)"
      ],
      "execution_count": null,
      "outputs": [
        {
          "output_type": "stream",
          "text": [
            "vou treinar todos os dias Python \n",
            "pelo menos 2 horas e 30 minutos por dia\n"
          ],
          "name": "stdout"
        }
      ]
    },
    {
      "cell_type": "code",
      "metadata": {
        "colab": {
          "base_uri": "https://localhost:8080/"
        },
        "id": "OFkG3nTngiGC",
        "outputId": "f7cf5cc0-57d5-43d5-fbcb-b9f03096da1e"
      },
      "source": [
        "texto_2.splitlines()"
      ],
      "execution_count": null,
      "outputs": [
        {
          "output_type": "execute_result",
          "data": {
            "text/plain": [
              "['vou treinar todos os dias Python ',\n",
              " 'pelo menos 2 horas e 30 minutos por dia']"
            ]
          },
          "metadata": {
            "tags": []
          },
          "execution_count": 69
        }
      ]
    },
    {
      "cell_type": "code",
      "metadata": {
        "colab": {
          "base_uri": "https://localhost:8080/"
        },
        "id": "5UM5I0uyglR-",
        "outputId": "d182bca7-d602-4587-83fe-60e30a8b187f"
      },
      "source": [
        "texto_2.isalnum()"
      ],
      "execution_count": null,
      "outputs": [
        {
          "output_type": "execute_result",
          "data": {
            "text/plain": [
              "False"
            ]
          },
          "metadata": {
            "tags": []
          },
          "execution_count": 70
        }
      ]
    },
    {
      "cell_type": "code",
      "metadata": {
        "colab": {
          "base_uri": "https://localhost:8080/"
        },
        "id": "Qm9WBpNcg89A",
        "outputId": "f3a02a9b-99d4-4c41-e2e6-3eab7a7080a6"
      },
      "source": [
        "texto_2.isnumeric()"
      ],
      "execution_count": null,
      "outputs": [
        {
          "output_type": "execute_result",
          "data": {
            "text/plain": [
              "False"
            ]
          },
          "metadata": {
            "tags": []
          },
          "execution_count": 76
        }
      ]
    },
    {
      "cell_type": "code",
      "metadata": {
        "colab": {
          "base_uri": "https://localhost:8080/"
        },
        "id": "U-G79qgogqY_",
        "outputId": "e5ec465a-eedd-4c3b-c4d9-1c55da53f6b7"
      },
      "source": [
        "numeros = [a for a in texto_2.split() if a.isnumeric()==True]\n",
        "numeros"
      ],
      "execution_count": null,
      "outputs": [
        {
          "output_type": "execute_result",
          "data": {
            "text/plain": [
              "['2', '30']"
            ]
          },
          "metadata": {
            "tags": []
          },
          "execution_count": 78
        }
      ]
    },
    {
      "cell_type": "code",
      "metadata": {
        "colab": {
          "base_uri": "https://localhost:8080/"
        },
        "id": "4x0xElMwgzyL",
        "outputId": "d630d58e-bb09-4cbd-ffef-c139c8556012"
      },
      "source": [
        "nomes = [a for a in texto_2.split() if a[0].isupper()==True]\n",
        "nomes"
      ],
      "execution_count": null,
      "outputs": [
        {
          "output_type": "execute_result",
          "data": {
            "text/plain": [
              "['Python']"
            ]
          },
          "metadata": {
            "tags": []
          },
          "execution_count": 80
        }
      ]
    },
    {
      "cell_type": "code",
      "metadata": {
        "colab": {
          "base_uri": "https://localhost:8080/"
        },
        "id": "cZRqRL-JhfAd",
        "outputId": "5724a926-cef6-43d0-d0da-a61f9c0266c1"
      },
      "source": [
        "nomes2 = [a for a in texto_2.split() if a.istitle()==True]\n",
        "nomes2"
      ],
      "execution_count": null,
      "outputs": [
        {
          "output_type": "execute_result",
          "data": {
            "text/plain": [
              "['Python']"
            ]
          },
          "metadata": {
            "tags": []
          },
          "execution_count": 82
        }
      ]
    },
    {
      "cell_type": "code",
      "metadata": {
        "colab": {
          "base_uri": "https://localhost:8080/",
          "height": 35
        },
        "id": "b5F6rkd2g2iT",
        "outputId": "cebaa27c-caf5-498b-ec8d-b024d71985d4"
      },
      "source": [
        "texto_2.center(100)"
      ],
      "execution_count": null,
      "outputs": [
        {
          "output_type": "execute_result",
          "data": {
            "application/vnd.google.colaboratory.intrinsic+json": {
              "type": "string"
            },
            "text/plain": [
              "'             vou treinar todos os dias Python \\npelo menos 2 horas e 30 minutos por dia              '"
            ]
          },
          "metadata": {
            "tags": []
          },
          "execution_count": 87
        }
      ]
    },
    {
      "cell_type": "code",
      "metadata": {
        "colab": {
          "base_uri": "https://localhost:8080/"
        },
        "id": "y2HKm1hAhxhe",
        "outputId": "ee41306c-ac0b-4f45-bcb2-ea3c5570c610"
      },
      "source": [
        "lista_5"
      ],
      "execution_count": null,
      "outputs": [
        {
          "output_type": "execute_result",
          "data": {
            "text/plain": [
              "['Ciclano', 'Fulano', 'Peter', 'Pet']"
            ]
          },
          "metadata": {
            "tags": []
          },
          "execution_count": 88
        }
      ]
    },
    {
      "cell_type": "code",
      "metadata": {
        "colab": {
          "base_uri": "https://localhost:8080/",
          "height": 35
        },
        "id": "PuFt9qNTiOIe",
        "outputId": "fd8809b9-45ef-429b-f8e5-5dea33018c25"
      },
      "source": [
        "text_3 = \" \".join(lista_5)\n",
        "text_3"
      ],
      "execution_count": null,
      "outputs": [
        {
          "output_type": "execute_result",
          "data": {
            "application/vnd.google.colaboratory.intrinsic+json": {
              "type": "string"
            },
            "text/plain": [
              "'Ciclano Fulano Peter Pet'"
            ]
          },
          "metadata": {
            "tags": []
          },
          "execution_count": 90
        }
      ]
    },
    {
      "cell_type": "markdown",
      "metadata": {
        "id": "mh8CkocUifdq"
      },
      "source": [
        "<h1>Exercícios:<h1>"
      ]
    },
    {
      "cell_type": "markdown",
      "metadata": {
        "id": "hGUvybhwiiq7"
      },
      "source": [
        "1. Crie uma paragráfo contando uma experiência de vida e armazene isso em uma string. Depois retorne a quantidade de palavras desse parágrafo."
      ]
    },
    {
      "cell_type": "code",
      "metadata": {
        "id": "141ZiDdMiX37"
      },
      "source": [
        ""
      ],
      "execution_count": null,
      "outputs": []
    },
    {
      "cell_type": "markdown",
      "metadata": {
        "id": "GoR9YOiQi0As"
      },
      "source": [
        "2. Conte a quantidade de nomes próprios e de números que aparecem na história."
      ]
    },
    {
      "cell_type": "code",
      "metadata": {
        "id": "dn1MtzCgi6IE"
      },
      "source": [
        ""
      ],
      "execution_count": null,
      "outputs": []
    },
    {
      "cell_type": "markdown",
      "metadata": {
        "id": "5wrR3XEii66D"
      },
      "source": [
        "3. Conte a quantidade de vogais que aparecem na história."
      ]
    },
    {
      "cell_type": "code",
      "metadata": {
        "id": "i-598aXFjASR"
      },
      "source": [
        ""
      ],
      "execution_count": null,
      "outputs": []
    },
    {
      "cell_type": "markdown",
      "metadata": {
        "id": "S5yWeJyfjA2K"
      },
      "source": [
        "4. Conte a quantidade de linhas que aparece na string."
      ]
    },
    {
      "cell_type": "code",
      "metadata": {
        "id": "qMEUMRPBjHVV"
      },
      "source": [
        ""
      ],
      "execution_count": null,
      "outputs": []
    },
    {
      "cell_type": "markdown",
      "metadata": {
        "id": "cEepPH-vjH6l"
      },
      "source": [
        "5. Utilize pelo menos mais 3 métodos próprios pra string que não apareceu em aula mas estão na referência."
      ]
    },
    {
      "cell_type": "code",
      "metadata": {
        "id": "9gUOuxFcjOUE"
      },
      "source": [
        ""
      ],
      "execution_count": null,
      "outputs": []
    }
  ]
}